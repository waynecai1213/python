{
 "cells": [
  {
   "cell_type": "markdown",
   "metadata": {},
   "source": [
    "# Generators\n",
    "\n",
    "* What is a Generator?\n",
    "    * Why do we use them?\n",
    "    * Where and how can we use them in our code?\n",
    "* Generator Functions\n",
    "    * Yield vs. Return\n",
    "    * Examples\n",
    "* Generator Expressions\n",
    "    * Syntax & Examples\n",
    "\n",
    "## *What* is a Generator? \n",
    "\n",
    "To build a class-based iterator in Python, we have to implement a class with `__iter__()` and `__next__()` method, keep track of internal states, and raise StopIteration when there are no values to be returned. This is a lot of very <b>lengthy</b> and <b>counterintuitive work. <br>\n",
    "<span style=color:red>We can use generators instead.</span></b>\n",
    "<br><br>\n",
    "`Generators` are a simple and *much easier* way of implementing iterators. They are implemented as functions or expressions and handle the `__iter__()` and `__next__()` methods automatically. \n",
    "<br><br>\n",
    "In generator functions, the keyword <b><span style=color:red>yield</span></b> is what allows us to avoid writing the `__iter__()` and `__next__()` methods."
   ]
  },
  {
   "cell_type": "markdown",
   "metadata": {},
   "source": [
    "## *Why* do we use Generators?\n",
    "\n",
    "1. Generators are more memory and CPU efficient.<br><br>\n",
    "2. They allow us to write code with fewer intermediate variables and data structures. <br><br>\n",
    "3. They usually require fewer lines of code.<br><br>\n",
    "4. Their usage makes the code easier to read and understand. \n",
    "\n",
    "## *Where* and *how* can we use them in our code?\n",
    "Find places in our code where we have something like this:\n",
    "<br><br>\n",
    "```\n",
    "def some_function():\n",
    "    result = []\n",
    "    for ... in ...:\n",
    "        result.append(x)\n",
    "    return result\n",
    "```\n",
    "<br>\n",
    "And replace it with:\n",
    "<br><br>\n",
    "\n",
    "```\n",
    "def iterate_over():\n",
    "    for ... in ...:\n",
    "        yield x\n",
    "```"
   ]
  },
  {
   "cell_type": "markdown",
   "metadata": {},
   "source": [
    "# Generator Functions\n",
    "\n",
    "Any function that has a keyword `yield` in its body is a generator function. \n",
    "<br><br>\n",
    "Bellow is a simple python program to demonstrate the working of yield."
   ]
  },
  {
   "cell_type": "code",
   "execution_count": 1,
   "metadata": {},
   "outputs": [
    {
     "name": "stdout",
     "output_type": "stream",
     "text": [
      "1\n",
      "2\n",
      "3\n"
     ]
    }
   ],
   "source": [
    "# After each iteration, the function remembers where it left off \n",
    "# and starts from the next yield statement\n",
    "\n",
    "def simpleGenerator(): \n",
    "    yield 1\n",
    "    yield 2\n",
    "    yield 3\n",
    "\n",
    "# manually loop over\n",
    "simple_gen = simpleGenerator()\n",
    "print(next(simple_gen))\n",
    "print(next(simple_gen))\n",
    "print(next(simple_gen))"
   ]
  },
  {
   "cell_type": "code",
   "execution_count": 2,
   "metadata": {},
   "outputs": [
    {
     "name": "stdout",
     "output_type": "stream",
     "text": [
      "1\n",
      "2\n",
      "3\n"
     ]
    }
   ],
   "source": [
    "# or, use a for loop\n",
    "for value in simpleGenerator():  \n",
    "    print(value) "
   ]
  },
  {
   "cell_type": "markdown",
   "metadata": {},
   "source": [
    "## Notes on Yield vs Return\n",
    "\n",
    "Both `yield` and `return` return some value from a function. \n",
    "\n",
    "While the return statement <b>\"terminates\"</b> a function entirely, a yield statement <b>“pauses”</b> the function and retains enough <b>state</b> to enable the function to resume where it left off. When resumed, the function continues execution immediately after the last yield run. \n",
    "\n",
    "This allows its code to produce a series of values over time, rather than computing them at once. We should use yield when we want to iterate over a sequence, but don’t want to store the entire sequence in memory."
   ]
  },
  {
   "cell_type": "markdown",
   "metadata": {},
   "source": [
    "## Numbers Example 1: Basic Sequence\n",
    "\n",
    "### Infinite Generator\n",
    "\n",
    "*What it is:* An infitnite sequence that increases by 5 after each iteration."
   ]
  },
  {
   "cell_type": "code",
   "execution_count": 3,
   "metadata": {},
   "outputs": [],
   "source": [
    "def infiniteGenerator():\n",
    "    num = 1\n",
    "    while True:\n",
    "        yield num\n",
    "        num += 5"
   ]
  },
  {
   "cell_type": "code",
   "execution_count": 4,
   "metadata": {},
   "outputs": [
    {
     "name": "stdout",
     "output_type": "stream",
     "text": [
      "1\n",
      "6\n",
      "11\n",
      "16\n",
      "21\n",
      "26\n",
      "31\n",
      "36\n",
      "41\n",
      "46\n",
      "51\n",
      "56\n"
     ]
    }
   ],
   "source": [
    "inf_gen = infiniteGenerator()\n",
    "\n",
    "# Note: using a for loop will result in an infinite loop\n",
    "print(next(inf_gen))  \n",
    "print(next(inf_gen))  \n",
    "print(next(inf_gen))  \n",
    "print(next(inf_gen))  \n",
    "print(next(inf_gen))  \n",
    "print(next(inf_gen))  \n",
    "print(next(inf_gen))  \n",
    "print(next(inf_gen))  \n",
    "print(next(inf_gen))  \n",
    "print(next(inf_gen))  \n",
    "print(next(inf_gen))  \n",
    "print(next(inf_gen))  "
   ]
  },
  {
   "cell_type": "code",
   "execution_count": 5,
   "metadata": {},
   "outputs": [],
   "source": [
    "# Another way of stopping an ininite sequence\n",
    "\n",
    "\n",
    "# an infinite generator function that prints square of numbers\n",
    "def infSquare():\n",
    "    num = 1;\n",
    "    # An Infinite loop to generate squares \n",
    "    while True:\n",
    "        yield num*num                \n",
    "        num += 1  # Next execution resumes from this point "
   ]
  },
  {
   "cell_type": "code",
   "execution_count": 6,
   "metadata": {},
   "outputs": [
    {
     "name": "stdout",
     "output_type": "stream",
     "text": [
      "1\n",
      "4\n",
      "9\n",
      "16\n",
      "25\n",
      "36\n",
      "49\n",
      "64\n",
      "81\n",
      "100\n"
     ]
    }
   ],
   "source": [
    "for num in infSquare():\n",
    "    # if this condition was not there, this will be an infinite loop\n",
    "    if num > 100:\n",
    "         break   \n",
    "    print(num)"
   ]
  },
  {
   "cell_type": "markdown",
   "metadata": {},
   "source": [
    "### Finite Generators\n",
    "To prevent the iteration from going on forever, we add a terminating conditional statement that we can verify each if its true.  \n",
    "\n",
    "*What it is:* A finite sequence that increases by 5 after each iteration."
   ]
  },
  {
   "cell_type": "code",
   "execution_count": 7,
   "metadata": {},
   "outputs": [],
   "source": [
    "def finiteGenerator(max_num):\n",
    "    num = 1\n",
    "    while num <= max_num:\n",
    "        yield num\n",
    "        num += 5"
   ]
  },
  {
   "cell_type": "code",
   "execution_count": 8,
   "metadata": {},
   "outputs": [
    {
     "name": "stdout",
     "output_type": "stream",
     "text": [
      "1\n",
      "6\n",
      "11\n",
      "16\n",
      "21\n",
      "26\n",
      "31\n",
      "36\n"
     ]
    }
   ],
   "source": [
    "finite_gen = finiteGenerator(40)\n",
    "\n",
    "for gen in finite_gen:\n",
    "    print(gen)"
   ]
  },
  {
   "cell_type": "markdown",
   "metadata": {},
   "source": [
    "## Numbers Example 2: Power Exponent\n",
    "\n",
    "*What it is:* An example that gives us the next power of 2 after each iteration. Power exponent start from zero and goes up to a user set number."
   ]
  },
  {
   "cell_type": "code",
   "execution_count": 9,
   "metadata": {},
   "outputs": [],
   "source": [
    "def twoPower(max=0):\n",
    "    num = 0\n",
    "    while num <= max:\n",
    "        yield 2 ** num\n",
    "        num += 1"
   ]
  },
  {
   "cell_type": "code",
   "execution_count": 10,
   "metadata": {},
   "outputs": [
    {
     "name": "stdout",
     "output_type": "stream",
     "text": [
      "1\n",
      "2\n",
      "4\n",
      "8\n",
      "16\n",
      "32\n",
      "64\n",
      "128\n",
      "256\n",
      "512\n",
      "1024\n",
      "2048\n",
      "4096\n",
      "8192\n",
      "16384\n",
      "32768\n",
      "65536\n",
      "131072\n",
      "262144\n",
      "524288\n",
      "1048576\n"
     ]
    }
   ],
   "source": [
    "for num in twoPower(20):\n",
    "    print(num)"
   ]
  },
  {
   "cell_type": "markdown",
   "metadata": {},
   "source": [
    "## Numbers Example 3: Range\n",
    "\n",
    "*What it is:* Create a sequence of numbers between 2 user-defined numbers."
   ]
  },
  {
   "cell_type": "code",
   "execution_count": 11,
   "metadata": {},
   "outputs": [],
   "source": [
    "def myRange(low, high):\n",
    "    current = low\n",
    "    while current <= high:\n",
    "        yield current\n",
    "        current += 1"
   ]
  },
  {
   "cell_type": "code",
   "execution_count": 12,
   "metadata": {},
   "outputs": [
    {
     "name": "stdout",
     "output_type": "stream",
     "text": [
      "1\n",
      "2\n",
      "3\n",
      "4\n",
      "5\n",
      "6\n",
      "7\n",
      "8\n",
      "9\n",
      "10\n"
     ]
    }
   ],
   "source": [
    "# call the function\n",
    "nums = myRange(1,10)\n",
    "\n",
    "for num in nums:\n",
    "    print(num)"
   ]
  },
  {
   "cell_type": "markdown",
   "metadata": {},
   "source": [
    "## Strings Example 1: Sentences"
   ]
  },
  {
   "cell_type": "code",
   "execution_count": 13,
   "metadata": {},
   "outputs": [
    {
     "name": "stdout",
     "output_type": "stream",
     "text": [
      "This\n",
      "generator\n",
      "function\n",
      "returns\n",
      "each\n",
      "word\n",
      "at\n",
      "a\n",
      "time.\n"
     ]
    }
   ],
   "source": [
    "def sentenceGen(sentence):\n",
    "    for word in sentence.split():\n",
    "        yield word\n",
    "\n",
    "my_sentence = sentenceGen('This generator function returns each word at a time.')\n",
    "\n",
    "for word in my_sentence:\n",
    "    print(word)    "
   ]
  },
  {
   "cell_type": "markdown",
   "metadata": {},
   "source": [
    "## Strings Example 2: Reverse"
   ]
  },
  {
   "cell_type": "code",
   "execution_count": 14,
   "metadata": {},
   "outputs": [],
   "source": [
    "def reverseString(my_str):\n",
    "    length = len(my_str)\n",
    "    for i in range(length - 1, -1, -1):\n",
    "        yield my_str[i]"
   ]
  },
  {
   "cell_type": "code",
   "execution_count": 15,
   "metadata": {},
   "outputs": [
    {
     "name": "stdout",
     "output_type": "stream",
     "text": [
      ".\n",
      "s\n",
      "g\n",
      "n\n",
      "i\n",
      "r\n",
      "t\n",
      "s\n",
      " \n",
      "s\n",
      "e\n",
      "s\n",
      "r\n",
      "e\n",
      "v\n",
      "e\n",
      "r\n",
      " \n",
      "n\n",
      "o\n",
      "i\n",
      "t\n",
      "c\n",
      "n\n",
      "u\n",
      "f\n",
      " \n",
      "r\n",
      "o\n",
      "t\n",
      "a\n",
      "r\n",
      "e\n",
      "n\n",
      "e\n",
      "g\n",
      " \n",
      "s\n",
      "i\n",
      "h\n",
      "T\n"
     ]
    }
   ],
   "source": [
    "rev = reverseString('This generator function reverses strings.')\n",
    "\n",
    "for char in rev:\n",
    "    print(char)"
   ]
  },
  {
   "cell_type": "markdown",
   "metadata": {},
   "source": [
    "# Generator Expressions\n",
    "Simple generators can be easily created using `generator expressions`. It makes building generators even faster and easier.\n",
    "\n",
    "Their syntax is simple and concise syntax and looks like a list comprehension. However, unlike a list comprehension, generators do not save the full list in python's memory and only iterate over the elements when needed. \n",
    "\n",
    "They allow for iteration to be handled in a <b><span style=color:red>single line expression</span></b>."
   ]
  },
  {
   "cell_type": "markdown",
   "metadata": {},
   "source": [
    "## List Comprehension vs. Generator Expressions\n"
   ]
  },
  {
   "cell_type": "code",
   "execution_count": 16,
   "metadata": {},
   "outputs": [
    {
     "data": {
      "text/plain": [
       "285"
      ]
     },
     "execution_count": 16,
     "metadata": {},
     "output_type": "execute_result"
    }
   ],
   "source": [
    "# the following code builds a full list of squares in memory\n",
    "sum([x*x for x in range(10)])"
   ]
  },
  {
   "cell_type": "code",
   "execution_count": 17,
   "metadata": {},
   "outputs": [
    {
     "data": {
      "text/plain": [
       "285"
      ]
     },
     "execution_count": 17,
     "metadata": {},
     "output_type": "execute_result"
    }
   ],
   "source": [
    "# memory is conserved by using a generator expression instead\n",
    "sum(x*x for x in range(10))"
   ]
  },
  {
   "cell_type": "markdown",
   "metadata": {},
   "source": [
    "## Generator Expression Syntax"
   ]
  },
  {
   "cell_type": "markdown",
   "metadata": {},
   "source": [
    "### General syntax:\n",
    "```\n",
    "gen_exp = (expression for item in collection)\n",
    "```\n",
    "<br><br>\n",
    "This corresponds to the following generator function:\n",
    "```\n",
    "def generator():\n",
    "    for item in collection:\n",
    "        yield expression\n",
    "```"
   ]
  },
  {
   "cell_type": "code",
   "execution_count": 18,
   "metadata": {},
   "outputs": [
    {
     "name": "stdout",
     "output_type": "stream",
     "text": [
      "1\n",
      "2\n",
      "4\n",
      "8\n",
      "16\n",
      "32\n",
      "64\n",
      "128\n",
      "256\n",
      "512\n",
      "1024\n",
      "2048\n",
      "4096\n",
      "8192\n",
      "16384\n",
      "32768\n",
      "65536\n",
      "131072\n",
      "262144\n",
      "524288\n"
     ]
    }
   ],
   "source": [
    "# Generator expression for powers of two\n",
    "\n",
    "generator = (2 ** num for num in range(20)) \n",
    "\n",
    "for num in generator: \n",
    "    print(num) "
   ]
  },
  {
   "cell_type": "code",
   "execution_count": 19,
   "metadata": {},
   "outputs": [
    {
     "name": "stdout",
     "output_type": "stream",
     "text": [
      ".\n",
      "e\n",
      "m\n",
      "i\n",
      "t\n",
      " \n",
      "a\n",
      " \n",
      "t\n",
      "a\n",
      " \n",
      "r\n",
      "e\n",
      "t\n",
      "t\n",
      "e\n",
      "l\n",
      " \n",
      "h\n",
      "c\n",
      "a\n",
      "e\n",
      " \n",
      "s\n",
      "n\n",
      "r\n",
      "u\n",
      "t\n",
      "e\n",
      "r\n",
      " \n",
      "n\n",
      "o\n",
      "i\n",
      "s\n",
      "s\n",
      "e\n",
      "r\n",
      "p\n",
      "x\n",
      "e\n",
      " \n",
      "r\n",
      "o\n",
      "t\n",
      "a\n",
      "r\n",
      "e\n",
      "n\n",
      "e\n",
      "g\n",
      " \n",
      "s\n",
      "i\n",
      "h\n",
      "T\n"
     ]
    }
   ],
   "source": [
    "# Reverse generator expression\n",
    "\n",
    "sentence = 'This generator expression returns each letter at a time.'\n",
    "\n",
    "sentence_gen = (sentence[i] for i in range(len(sentence)-1, -1, -1))\n",
    "\n",
    "for char in sentence_gen:\n",
    "    print(char)"
   ]
  },
  {
   "cell_type": "code",
   "execution_count": 20,
   "metadata": {},
   "outputs": [
    {
     "name": "stdout",
     "output_type": "stream",
     "text": [
      "['.', 'e', 'm', 'i', 't', ' ', 'a', ' ', 't', 'a', ' ', 'r', 'e', 't', 't', 'e', 'l', ' ', 'h', 'c', 'a', 'e', ' ', 's', 'n', 'r', 'u', 't', 'e', 'r', ' ', 'n', 'o', 'i', 's', 's', 'e', 'r', 'p', 'x', 'e', ' ', 'r', 'o', 't', 'a', 'r', 'e', 'n', 'e', 'g', ' ', 's', 'i', 'h', 'T']\n"
     ]
    }
   ],
   "source": [
    "# we can also directly add all the letters to a list\n",
    "sentence = 'This generator expression returns each letter at a time.'\n",
    "\n",
    "print(list(sentence[i] for i in range(len(sentence)-1, -1, -1)))"
   ]
  },
  {
   "cell_type": "markdown",
   "metadata": {},
   "source": [
    "### Syntax with if-condition:\n",
    "```\n",
    "genexpr = (expression for item in collection\n",
    "           if condition)\n",
    "```\n",
    "<br><br>\n",
    "This corresponds to the following generator function:\n",
    "```\n",
    "def generator():\n",
    "    for item in collection:\n",
    "        if condition:\n",
    "            yield expression\n",
    "```"
   ]
  },
  {
   "cell_type": "code",
   "execution_count": 21,
   "metadata": {},
   "outputs": [
    {
     "name": "stdout",
     "output_type": "stream",
     "text": [
      "0\n",
      "4\n",
      "16\n",
      "36\n",
      "64\n"
     ]
    }
   ],
   "source": [
    "# a generator expression that yields the square numbers \n",
    "# of al even integers from zero to nine\n",
    "\n",
    "even_squares = (x * x for x in range(10) \n",
    "                if x % 2 == 0)\n",
    "\n",
    "for x in even_squares:\n",
    "    print(x)"
   ]
  }
 ],
 "metadata": {
  "kernelspec": {
   "display_name": "Python 3",
   "language": "python",
   "name": "python3"
  },
  "language_info": {
   "codemirror_mode": {
    "name": "ipython",
    "version": 3
   },
   "file_extension": ".py",
   "mimetype": "text/x-python",
   "name": "python",
   "nbconvert_exporter": "python",
   "pygments_lexer": "ipython3",
   "version": "3.7.6"
  }
 },
 "nbformat": 4,
 "nbformat_minor": 4
}
