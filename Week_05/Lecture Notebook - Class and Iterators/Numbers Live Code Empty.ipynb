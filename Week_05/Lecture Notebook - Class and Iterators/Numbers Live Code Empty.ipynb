{
 "cells": [
  {
   "cell_type": "markdown",
   "metadata": {},
   "source": [
    "# Numbers Live Code *For Lecture"
   ]
  },
  {
   "cell_type": "code",
   "execution_count": null,
   "metadata": {},
   "outputs": [],
   "source": [
    "x = 1 \n",
    "y = 2\n",
    "sum = x + y\n",
    "\n",
    "print (sum)"
   ]
  },
  {
   "cell_type": "code",
   "execution_count": 21,
   "metadata": {},
   "outputs": [
    {
     "name": "stdout",
     "output_type": "stream",
     "text": [
      "179\n",
      "12\n",
      "182\n"
     ]
    }
   ],
   "source": [
    "class Numbers:\n",
    "    \n",
    "    def __init__(self,*arguments):\n",
    "        self.number = []\n",
    "        for argument in arguments:\n",
    "            self.addNumber(argument)\n",
    "        \n",
    "    def addNumber(self, number):\n",
    "        self.number.append(number)\n",
    "        return\n",
    "    \n",
    "    def total(self):\n",
    "        sum = 0\n",
    "        for num in self.number:\n",
    "            sum += num\n",
    "        return sum\n",
    "    \n",
    "    def mean(self):\n",
    "        sum = self.total()\n",
    "        numberCount = len(self.number)\n",
    "        return sum/numberCount\n",
    "\n",
    "    def empty(self):\n",
    "        self.number = []\n",
    "        \n",
    "    def __len__(self):\n",
    "        return len(self.number)\n",
    "    \n",
    "    def __add__(self, otherNumbers):\n",
    "        for number in otherNumbers.number:\n",
    "            self.addNumber(number)\n",
    "            \n",
    "instance = Numbers(2,3,4,5,32,52,3,52,3,23)\n",
    "    \n",
    "instance2 = Numbers(0,3)\n",
    "\n",
    "print(instance.total())\n",
    "\n",
    "instance + instance2\n",
    "print(len(instance))\n",
    "print(instance.total())\n",
    "\n"
   ]
  },
  {
   "cell_type": "code",
   "execution_count": 22,
   "metadata": {},
   "outputs": [
    {
     "ename": "SyntaxError",
     "evalue": "unexpected EOF while parsing (<ipython-input-22-529dfa75666e>, line 1)",
     "output_type": "error",
     "traceback": [
      "\u001b[1;36m  File \u001b[1;32m\"<ipython-input-22-529dfa75666e>\"\u001b[1;36m, line \u001b[1;32m1\u001b[0m\n\u001b[1;33m    class Piece:\u001b[0m\n\u001b[1;37m                ^\u001b[0m\n\u001b[1;31mSyntaxError\u001b[0m\u001b[1;31m:\u001b[0m unexpected EOF while parsing\n"
     ]
    }
   ],
   "source": [
    "class Piece:\n",
    "    pass\n",
    "\n",
    "class ChessPiece(Piece):\n",
    "    pass\n",
    "\n",
    "class Pawn(ChessPiece):\n",
    "    pass\n",
    "\n",
    "class Rook(ChessPiece):\n",
    "    pass\n",
    "    \n",
    "    \n",
    "    \n",
    "    \n",
    "    \n",
    "    \n",
    "    \n",
    "    \n",
    "    \n",
    "    \n",
    "    \n",
    "    \n",
    "    \n",
    "    \n",
    "    \n",
    "    \n",
    "    \n",
    "    \n",
    "    \n",
    "    \n",
    "    \n",
    "    \n",
    "    \n",
    "    \n",
    "    \n",
    "    \n",
    "    \n",
    "    \n",
    "    \n",
    "    \n",
    "    \n",
    "    \n",
    "    \n",
    "    "
   ]
  },
  {
   "cell_type": "code",
   "execution_count": null,
   "metadata": {},
   "outputs": [],
   "source": []
  },
  {
   "cell_type": "code",
   "execution_count": null,
   "metadata": {},
   "outputs": [],
   "source": []
  }
 ],
 "metadata": {
  "kernelspec": {
   "display_name": "Python 3",
   "language": "python",
   "name": "python3"
  },
  "language_info": {
   "codemirror_mode": {
    "name": "ipython",
    "version": 3
   },
   "file_extension": ".py",
   "mimetype": "text/x-python",
   "name": "python",
   "nbconvert_exporter": "python",
   "pygments_lexer": "ipython3",
   "version": "3.7.4"
  }
 },
 "nbformat": 4,
 "nbformat_minor": 2
}
