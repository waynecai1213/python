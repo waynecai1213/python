{
 "cells": [
  {
   "cell_type": "markdown",
   "metadata": {},
   "source": [
    "# Numbers Live Code *For Lecture"
   ]
  },
  {
   "cell_type": "code",
   "execution_count": null,
   "metadata": {},
   "outputs": [],
   "source": [
    "x = 1 \n",
    "y = 2\n",
    "sum = x + y\n",
    "\n",
    "print (sum)"
   ]
  },
  {
   "cell_type": "code",
   "execution_count": null,
   "metadata": {},
   "outputs": [],
   "source": [
    "x = 3\n",
    "print ((sum))"
   ]
  },
  {
   "cell_type": "code",
   "execution_count": null,
   "metadata": {},
   "outputs": [],
   "source": [
    "class Numbers:\n",
    "    \n",
    "    def __init__(self, *arguments):\n",
    "        self.numbers = []\n",
    "        for argument in arguments:\n",
    "            self.addNumber(argument)\n",
    "    \n",
    "    def addNumber(self, number):\n",
    "        self.numbers.append(number)\n",
    "    \n",
    "    def total(self):\n",
    "        sum = 0\n",
    "        for num in self.numbers:\n",
    "            sum += num\n",
    "        return sum\n",
    "    \n",
    "    def mean(self):\n",
    "        return self.total()/len(self.numbers)\n",
    "    \n",
    "    def empty():\n",
    "        self.numbers = []\n",
    "        return self.numbers\n",
    "\n",
    "num = 1\n",
    "instance1 = Numbers(1,2,3,4,5,6,68,9)\n",
    "instance1.addNumber(2)\n",
    "instance1.mean()"
   ]
  },
  {
   "cell_type": "code",
   "execution_count": null,
   "metadata": {},
   "outputs": [],
   "source": []
  },
  {
   "cell_type": "code",
   "execution_count": null,
   "metadata": {},
   "outputs": [],
   "source": []
  }
 ],
 "metadata": {
  "kernelspec": {
   "display_name": "Python 3",
   "language": "python",
   "name": "python3"
  },
  "language_info": {
   "codemirror_mode": {
    "name": "ipython",
    "version": 3
   },
   "file_extension": ".py",
   "mimetype": "text/x-python",
   "name": "python",
   "nbconvert_exporter": "python",
   "pygments_lexer": "ipython3",
   "version": "3.7.4"
  }
 },
 "nbformat": 4,
 "nbformat_minor": 2
}
