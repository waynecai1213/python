{
 "cells": [
  {
   "cell_type": "markdown",
   "metadata": {},
   "source": [
    "# Number Class example code\n",
    "\n",
    "In this example, we will create a class known as Numbers which will allow us to store a series of values in a sequence and manipulate them in various ways.\n",
    "\n",
    "Python doesn't exactly have a class specifically designed to handle arrays of numbers. So we're going to try and create one.\n",
    "\n",
    "## What is in here?\n",
    "We are going to create a class called Numbers that holds an arbitrary number of numbers in it. This class will have some specific functions declared to, and will have some overloaded 'magic' methods to give us some more convenient and \"python-like\" behaviors that we expect.\n",
    "\n",
    "## The Plan\n",
    "* We are going to first create the class. \n",
    "* Create the constructor that takes a series of numbers or takes it empty\n",
    "* Create a function to take in new numbers into the instance\n",
    "* Add a basic summation function\n",
    "* Add a mean calculation function\n",
    "* Try some overloaded functionality in len() and add() and getitem() and setitem()\n",
    "* Test the class that we've created!"
   ]
  },
  {
   "cell_type": "code",
   "execution_count": 229,
   "metadata": {},
   "outputs": [],
   "source": [
    "#Declare the Class name\n",
    "class Numbers:\n",
    "    \n",
    "    #Create the constructor\n",
    "    # *arguments lets us take an arbitrary number of arguments, and is marked with *\n",
    "    def __init__(self, *arguments):\n",
    "        #Declare the instance attribute, in this case it's a list\n",
    "        self.numbers = []\n",
    "        #End the constructor if there are no arguments given\n",
    "        if (not arguments):\n",
    "            return\n",
    "        #For every argument given, add the number using our own method\n",
    "        #This is written for consistency rather than efficiency\n",
    "        for argument in arguments:\n",
    "            self.addNumbers(argument)\n",
    "        \n",
    "    \n",
    "    #Create a method that we can use anywhere to add numbers to the list.\n",
    "    def addNumbers(self, *arguments):\n",
    "        #Fall out if no arguments given\n",
    "        if (not arguments):\n",
    "            return\n",
    "        #Append numbers to our list if we have numbers to add\n",
    "        for number in arguments:\n",
    "            self.numbers.append(number)\n",
    "        return self\n",
    "    \n",
    "    #Create a method that adds up all the numbers in the list\n",
    "    def total(self):\n",
    "        return sum(self.numbers)\n",
    "    \n",
    "    #Create a method that calculates the average of the numbers\n",
    "    def mean(self):\n",
    "        if not len(self.numbers):\n",
    "            raise\n",
    "        return self.total()/len(self.numbers)\n",
    "    \n",
    "    #Create a method empties the numbers from the list\n",
    "    def empty(self):\n",
    "        self.numbers = []\n",
    "        return self.numbers\n",
    "        \n",
    "    #Create a method that combines one instance of this class with another instance\n",
    "    def combine(self, *otherNumbers):\n",
    "        for otherNumber in otherNumbers:\n",
    "            self.numbers = self.numbers + otherNumber.numbers\n",
    "        return self.numbers\n",
    "    \n",
    "    # OVERLOADED FUNCTIONS\n",
    "    \n",
    "    #Define len() functionality\n",
    "    def __len__(self):\n",
    "        return len(self.numbers)\n",
    "\n",
    "    #Define + operator functionality (this is the same as combine)\n",
    "    def __add__(self, otherNumbers):\n",
    "        return self.numbers + otherNumbers.numbers\n",
    "    \n",
    "    #Define [key] notation functionality\n",
    "    def __getitem__(self, key):\n",
    "        #Fall out if key does not exist\n",
    "        if not key:\n",
    "            return self.numbers\n",
    "        return self.numbers[key]\n",
    "    \n",
    "    #Define [key] = item functionality\n",
    "    def __setitem__(self, key, item):\n",
    "        #Fall out if key does not exist\n",
    "        if not key:\n",
    "            return self.numbers\n",
    "        #try: except block here is to make sure we do not try a key out of range\n",
    "        try:\n",
    "            self.numbers[key] = item\n",
    "        except IndexError as e:\n",
    "            print(e)\n",
    "        finally:\n",
    "            return self.numbers"
   ]
  },
  {
   "cell_type": "markdown",
   "metadata": {},
   "source": [
    "# Testing the Code\n",
    "Making a class is only half the battle: classes require testing to make sure that they are working as expected. This is a prime space for logical errors, especially with Python's flexible form. The best practice is something called a Unit Test, and is its own class of work <a href=\"https://www.geeksforgeeks.org/unit-testing-python-unittest/\"> that you can read about here.</a> Unit Tests are a whole category of classes themselves!\n",
    "\n",
    "Testing cases is about finding where failures occur. It's important to remember that errors are ok! Sometimes we want an error to occur with our class because we want to enforce a specific use case. If a runtime error happens, then we know it's because we're using the object wrong. However, sometimes we want to handle error cases in specific ways. This is what makes our objects useful in the long term.\n",
    "\n",
    "For our purposes, we have specifically written tests like the ones we've been using so far."
   ]
  },
  {
   "cell_type": "code",
   "execution_count": 230,
   "metadata": {},
   "outputs": [],
   "source": [
    "#Create an instance, using ins to be shorthand for instance\n",
    "#This block checks if our constructor takes both zero attributes and arbitrary attributes \n",
    "ins1 = Numbers()\n",
    "ins2 = Numbers(1,2,3,4,5)"
   ]
  },
  {
   "cell_type": "code",
   "execution_count": 234,
   "metadata": {},
   "outputs": [
    {
     "name": "stdout",
     "output_type": "stream",
     "text": [
      "Starting values:\n",
      "instance 1: []\n",
      "instance 2: [1, 2, 3, 4, 5]\n",
      "\n",
      "Instance 1, add numbers and total method checks: \n",
      "instance 1 after adding numbers:[6, 7, 8, 9, 10]\n",
      "instance 1 total sum: 40\n",
      "\n",
      "Instance 2, mean value and combine method checks: \n",
      "instance 2 mean value: 5.5\n",
      "instance 2 combined numbers [1, 2, 3, 4, 5, 6, 7, 8, 9, 10]\n",
      "\n",
      "Instance 1, empty method check\n",
      "instance 1 empty []\n"
     ]
    }
   ],
   "source": [
    "#Now using our created instances, let's test the various methods that we have created\n",
    "print('Starting values:')\n",
    "print('instance 1: ' + str(ins1.numbers))\n",
    "print('instance 2: ' + str(ins2.numbers))\n",
    "ins1.addNumbers(6,7,8,9,10)\n",
    "ins1Sum = ins1.total()\n",
    "print()\n",
    "\n",
    "print('Instance 1, add numbers and total method checks: ')\n",
    "print('instance 1 after adding numbers:' + str(ins1.numbers))\n",
    "print('instance 1 total sum: ' + str(ins1Sum))\n",
    "print()\n",
    "\n",
    "print('Instance 2, mean value and combine method checks: ')\n",
    "ins2.mean()\n",
    "ins2.combine(ins1)\n",
    "print('instance 2 mean value: ' + str(ins2.mean()))\n",
    "print('instance 2 combined numbers ' + str(ins2.numbers))\n",
    "print()\n",
    "\n",
    "print('Instance 1, empty method check')\n",
    "ins1.empty()\n",
    "print('instance 1 empty ' + str(ins1.numbers))"
   ]
  },
  {
   "cell_type": "markdown",
   "metadata": {},
   "source": [
    "# Closing Thoughts\n",
    "This implementation of Class is simple example to demonstrate the functionality and approach to how one might code any class. In projects, classes are created under much more exacting circumstances! There are many avenues to go from here. After all, this Class introduction is mostly an introduction to the concept of Object Oriented Programming, or OOP. There are several strategies that incorporate and utilize the Class object construct. Inheritance, class extensions, python class decorators, and more. \n",
    "\n",
    "There are whole books written about this topic that we cannot cover over the course of this lecture. This taste is enough to get you started in the process."
   ]
  },
  {
   "cell_type": "code",
   "execution_count": null,
   "metadata": {},
   "outputs": [],
   "source": []
  }
 ],
 "metadata": {
  "kernelspec": {
   "display_name": "Python 3",
   "language": "python",
   "name": "python3"
  },
  "language_info": {
   "codemirror_mode": {
    "name": "ipython",
    "version": 3
   },
   "file_extension": ".py",
   "mimetype": "text/x-python",
   "name": "python",
   "nbconvert_exporter": "python",
   "pygments_lexer": "ipython3",
   "version": "3.7.4"
  }
 },
 "nbformat": 4,
 "nbformat_minor": 2
}
