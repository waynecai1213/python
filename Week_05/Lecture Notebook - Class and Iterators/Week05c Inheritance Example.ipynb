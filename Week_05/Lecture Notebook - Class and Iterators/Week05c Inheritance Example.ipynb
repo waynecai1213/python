{
 "cells": [
  {
   "cell_type": "markdown",
   "metadata": {},
   "source": [
    "# Inheritance \n",
    "Inheritance is a way of making classes that build off of the work you have already done to make a class. Somtimes a class has to only use pieces of the existing class or it has to have all the existing structure and expands with some specific functions. Either way, inheritance is an important part of classes that you should know about!\n",
    "\n",
    "Here we are going to classify historic events using classes.\n"
   ]
  },
  {
   "cell_type": "code",
   "execution_count": 28,
   "metadata": {},
   "outputs": [],
   "source": [
    "class BaseClass:\n",
    "    def __init__(self, name):\n",
    "        self.name = name    \n",
    "\n",
    "class SubClass1(BaseClass):\n",
    "    def __init__(self, name):\n",
    "        #Here the super() references the BaseClass init()\n",
    "        super().__init__(name)\n",
    "\n",
    "class SubClass2(BaseClass):\n",
    "    #SubClass2 does not take an argument in the constructor\n",
    "    def __init__(self):\n",
    "        pass\n",
    "    \n",
    "def isOfBaseClass(argument):\n",
    "    if type(argument) is BaseClass:\n",
    "        return True\n",
    "    if issubclass(type(argument),BaseClass):\n",
    "        return True\n",
    "    return False"
   ]
  },
  {
   "cell_type": "code",
   "execution_count": 29,
   "metadata": {},
   "outputs": [
    {
     "name": "stdout",
     "output_type": "stream",
     "text": [
      "True\n",
      "True\n",
      "True\n"
     ]
    }
   ],
   "source": [
    "instance1 = BaseClass(\"Class1\")\n",
    "instance2 = SubClass1(\"SubClass1\")\n",
    "instance3 = SubClass2()\n",
    "\n",
    "print(isOfBaseClass(instance1))\n",
    "print(isOfBaseClass(instance2))\n",
    "print(isOfBaseClass(instance3))"
   ]
  },
  {
   "cell_type": "markdown",
   "metadata": {},
   "source": [
    "# Chess Piece Class Inheritance"
   ]
  },
  {
   "cell_type": "code",
   "execution_count": 1,
   "metadata": {},
   "outputs": [
    {
     "data": {
      "text/plain": [
       "'\\nHere we are going to make a base Chess piece class, and then use that to \\ncreate every piece in the chess board\"\\n'"
      ]
     },
     "execution_count": 1,
     "metadata": {},
     "output_type": "execute_result"
    }
   ],
   "source": [
    "'''\n",
    "Here we are going to make a base Chess piece class, and then use that to \n",
    "create every piece in the chess board\"\n",
    "'''\n"
   ]
  },
  {
   "cell_type": "code",
   "execution_count": null,
   "metadata": {},
   "outputs": [],
   "source": []
  }
 ],
 "metadata": {
  "kernelspec": {
   "display_name": "Python 3",
   "language": "python",
   "name": "python3"
  },
  "language_info": {
   "codemirror_mode": {
    "name": "ipython",
    "version": 3
   },
   "file_extension": ".py",
   "mimetype": "text/x-python",
   "name": "python",
   "nbconvert_exporter": "python",
   "pygments_lexer": "ipython3",
   "version": "3.7.4"
  }
 },
 "nbformat": 4,
 "nbformat_minor": 2
}
