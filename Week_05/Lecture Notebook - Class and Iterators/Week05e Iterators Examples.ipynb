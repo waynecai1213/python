{
 "cells": [
  {
   "cell_type": "markdown",
   "metadata": {},
   "source": [
    "# Creating our Own Iterators"
   ]
  },
  {
   "cell_type": "markdown",
   "metadata": {},
   "source": [
    "## Why and when do we need to create our own iterators?<br>\n",
    "\n",
    "1. When we need our classes to be <b><span style=\"color:red\">iterable</span></b> (add `__iter__()` and `__next__()` methods)\n",
    "<br><br>\n",
    "2. When we need many values but don’t want to save them all to python’s memory in a list or tuple, iterators are <b><span style=\"color:red\">memory efficient</span></b>.\n",
    "<br><br>\n",
    "3. When we need an infinite source of data, we can create <b><span style=\"color:red\">infinite iterators</span></b> that go on forever. (but still only fetch one value at a time) \n",
    "<br><br>\n",
    "\n",
    "## How do we create our own iterators?<br>\n",
    "\n",
    "Iterators are implemented as classes. \n",
    "<br><br>\n",
    "To create a class-based iterator, we have to implement the methods `__iter__()` and `__next__()` to our object. \n",
    "\n",
    "* `__iter__()` method must always return the iterator object itself.  \n",
    "\n",
    "* `__next__()` method must return the next item in the sequence. This is also where we specify the logic of our operation. In case of finite iterators, the next method must raise StopIteration.\n",
    "<br><br>\n",
    "Note that class-based iterators are both, an iterable (because they have an __iter__() method), and their own iterator (because they have a __next__() method).\n",
    "<br><br>\n"
   ]
  },
  {
   "cell_type": "markdown",
   "metadata": {},
   "source": [
    "## Numbers Example 1: Basic Sequence\n",
    "\n",
    "### Infinite Iterators\n",
    "\n",
    "*What it is:* An infitnite sequence that increases by 5 after each iteration.\n",
    "\n",
    "<b>Note:</b><br>\n",
    "The `__iter__()` method has to return an iterator, as in an object that has a `__next__()` method. But we can simply create the next method within our class and return this same object in iter method, and so, we return \"`self`\". "
   ]
  },
  {
   "cell_type": "code",
   "execution_count": 31,
   "metadata": {},
   "outputs": [],
   "source": [
    "class InfiniteSequence:\n",
    "    \"\"\"Class to implement an infinite \n",
    "    iterator of numbers that increase by 5\"\"\"\n",
    "    \n",
    "    # add iter method to make our class iterable\n",
    "    def  __iter__(self):\n",
    "        self.num = 1\n",
    "        return self\n",
    "    \n",
    "    # add a next method and define the main logic for our sequence\n",
    "    def __next__(self):\n",
    "        x = self.num\n",
    "        self.num += 5\n",
    "        return x"
   ]
  },
  {
   "cell_type": "code",
   "execution_count": 32,
   "metadata": {},
   "outputs": [
    {
     "name": "stdout",
     "output_type": "stream",
     "text": [
      "1\n",
      "6\n",
      "11\n",
      "16\n",
      "21\n",
      "26\n",
      "31\n",
      "36\n",
      "41\n",
      "46\n",
      "51\n",
      "56\n"
     ]
    }
   ],
   "source": [
    "# create an instance of our infinite class\n",
    "inf_class = InfiniteSequence()\n",
    "\n",
    "# call the iterator object of our object\n",
    "inf_iter =  iter(inf_class)\n",
    "\n",
    "# Note: using a for loop will result in an infinite loop\n",
    "# iterate using the next method\n",
    "print(next(inf_iter))\n",
    "print(next(inf_iter))\n",
    "print(next(inf_iter))\n",
    "print(next(inf_iter))\n",
    "print(next(inf_iter))\n",
    "print(next(inf_iter))\n",
    "print(next(inf_iter))\n",
    "print(next(inf_iter))\n",
    "print(next(inf_iter))\n",
    "print(next(inf_iter))\n",
    "print(next(inf_iter))\n",
    "print(next(inf_iter))"
   ]
  },
  {
   "cell_type": "markdown",
   "metadata": {},
   "source": [
    "### Finite Iterator\n",
    "\n",
    "To prevent the iteration from going on forever, we add a terminating condition to raise an exception error after the iteration is done a certain number of times. \n",
    "\n",
    "*What it is:* A finite sequence that increases by 5 after each iteration."
   ]
  },
  {
   "cell_type": "code",
   "execution_count": 33,
   "metadata": {},
   "outputs": [],
   "source": [
    "class FiniteSequence():\n",
    "    \"\"\"Class to implement a finite \n",
    "    iterator of numbers that increase by 5\"\"\"\n",
    "    \n",
    "    def __iter__(self):\n",
    "        self.num = 1\n",
    "        return self\n",
    "\n",
    "    def __next__(self):\n",
    "        # add a conditional statement that determines when to terminate the iteration\n",
    "        if self.num <= 40:\n",
    "            x = self.num\n",
    "            self.num += 5\n",
    "            return x\n",
    "        \n",
    "        # when the value of self.num exceeds 20, the iteration stops\n",
    "        else:\n",
    "            raise StopIteration"
   ]
  },
  {
   "cell_type": "code",
   "execution_count": 40,
   "metadata": {},
   "outputs": [
    {
     "name": "stdout",
     "output_type": "stream",
     "text": [
      "1\n",
      "6\n",
      "11\n",
      "16\n",
      "21\n",
      "26\n",
      "31\n",
      "36\n"
     ]
    }
   ],
   "source": [
    "# create an instance of our finite class\n",
    "finite_class = FiniteSequence()\n",
    "\n",
    "# We can use a for loop instead of looping manually in this example\n",
    "for x in finite_iter:\n",
    "    print(x)"
   ]
  },
  {
   "cell_type": "markdown",
   "metadata": {},
   "source": [
    "## Numbers Example 2: Power Exponent\n",
    "*What it is:* An example that gives us the next power of 2 after each iteration. Power exponent start from zero and goes up to a user set number. "
   ]
  },
  {
   "cell_type": "code",
   "execution_count": 80,
   "metadata": {},
   "outputs": [],
   "source": [
    "class TwoPower:\n",
    "    \"\"\"Class to implement an iterator\n",
    "    of powers of two\"\"\"\n",
    "\n",
    "    def __init__(self, max=0):\n",
    "        self.num = 0\n",
    "        self.max = max\n",
    "\n",
    "    def __iter__(self):\n",
    "        return self\n",
    "\n",
    "    def __next__(self):\n",
    "        if self.num > self.max:\n",
    "            raise StopIteration\n",
    "        result = 2 ** self.num\n",
    "        self.num += 1\n",
    "        return result"
   ]
  },
  {
   "cell_type": "code",
   "execution_count": 82,
   "metadata": {},
   "outputs": [
    {
     "name": "stdout",
     "output_type": "stream",
     "text": [
      "1\n",
      "2\n",
      "4\n",
      "8\n",
      "16\n",
      "32\n",
      "64\n",
      "128\n",
      "256\n",
      "512\n",
      "1024\n",
      "2048\n",
      "4096\n",
      "8192\n",
      "16384\n",
      "32768\n",
      "65536\n",
      "131072\n",
      "262144\n",
      "524288\n",
      "1048576\n"
     ]
    }
   ],
   "source": [
    "# create an object\n",
    "power2 = TwoPower(20)\n",
    "\n",
    "# iterate using a for loop\n",
    "for x in power2:\n",
    "    print (x)"
   ]
  },
  {
   "cell_type": "markdown",
   "metadata": {},
   "source": [
    "## Numbers Example 3: Range\n",
    "*What it is:* Create a sequence of numbers between 2 user-defined numbers."
   ]
  },
  {
   "cell_type": "code",
   "execution_count": 55,
   "metadata": {},
   "outputs": [],
   "source": [
    "class MyRange:\n",
    "    \"\"\"Class to implement an iterator\n",
    "    of that creates a sequence between 2 numbers\"\"\"\n",
    "    \n",
    "    # we need to initialize a start and end point\n",
    "    def __init__(self, low, high):\n",
    "        self.current = low\n",
    "        self.high = high\n",
    "    \n",
    "    def __iter__(self):\n",
    "        return self\n",
    "    \n",
    "    def __next__(self):\n",
    "        # check if there are more values to iterate through\n",
    "        if self.current > self.high:\n",
    "            raise StopIteration\n",
    "            \n",
    "        # if we still have values, get the current value, \n",
    "        # increment it by one and return its current state\n",
    "        else:\n",
    "            current = self.current\n",
    "            self.current += 1\n",
    "            return current"
   ]
  },
  {
   "cell_type": "code",
   "execution_count": 56,
   "metadata": {},
   "outputs": [
    {
     "name": "stdout",
     "output_type": "stream",
     "text": [
      "1\n",
      "2\n",
      "3\n",
      "4\n",
      "5\n",
      "6\n",
      "7\n",
      "8\n",
      "9\n",
      "10\n"
     ]
    }
   ],
   "source": [
    "# ccreate an instance of our object\n",
    "nums = MyRange(1,10)\n",
    "\n",
    "# loop through it using a for loop\n",
    "for num in nums: \n",
    "    print(num)"
   ]
  },
  {
   "cell_type": "markdown",
   "metadata": {},
   "source": [
    "## Strings Example 1: Sentences"
   ]
  },
  {
   "cell_type": "code",
   "execution_count": 83,
   "metadata": {},
   "outputs": [],
   "source": [
    "class Sentence:\n",
    "    \"\"\"Class to implement an iterator\n",
    "    that returns every word of a sentence\"\"\"\n",
    "    \n",
    "    # initialize variables\n",
    "    def __init__(self, sentence):\n",
    "        self.sentence = sentence\n",
    "        self.index = 0\n",
    "        self.words = self.sentence.split()\n",
    "\n",
    "    def __iter__(self):\n",
    "        return self\n",
    "\n",
    "    def __next__(self):\n",
    "        if self.index >= len(self.words): # if we reached the end, stop iterating\n",
    "            raise StopIteration\n",
    "        index = self.index #if not, continue and assign index to current self.index\n",
    "        self.index += 1 # increment index each time\n",
    "        return self.words[index] # return the word at the current index"
   ]
  },
  {
   "cell_type": "code",
   "execution_count": 84,
   "metadata": {},
   "outputs": [
    {
     "name": "stdout",
     "output_type": "stream",
     "text": [
      "This\n",
      "iterator\n",
      "class\n",
      "returns\n",
      "each\n",
      "word\n",
      "at\n",
      "a\n",
      "time.\n"
     ]
    }
   ],
   "source": [
    "my_sentence = Sentence('This iterator class returns each word at a time.')\n",
    "\n",
    "for word in my_sentence:\n",
    "    print(word)"
   ]
  },
  {
   "cell_type": "markdown",
   "metadata": {},
   "source": [
    "## Strings Example 2: Reverse "
   ]
  },
  {
   "cell_type": "code",
   "execution_count": 76,
   "metadata": {},
   "outputs": [],
   "source": [
    "class Reverse:\n",
    "    \"\"\"Class to implement an iterator\n",
    "    that reverses strings\"\"\"\n",
    "    \n",
    "    # initialize our class\n",
    "    def __init__(self, data): # takes self and some data to reverse\n",
    "        self.data = data # the data that we pass in\n",
    "        self.index = len(data) # starts from the end of the string\n",
    "    \n",
    "    def __iter__(self):\n",
    "        return self # returns iterator object\n",
    "    \n",
    "    # this is where we do the calculation to get the reverse order\n",
    "    def __next__(self):\n",
    "        if self.index == 0:     # if we reached the end of our data,\n",
    "            raise StopIteration # stop the iteration \n",
    "        self.index = self.index - 1 # starts last index of string and reduces till it reaches index 0\n",
    "        return self.data[self.index]"
   ]
  },
  {
   "cell_type": "code",
   "execution_count": 77,
   "metadata": {},
   "outputs": [
    {
     "name": "stdout",
     "output_type": "stream",
     "text": [
      ".\n",
      "s\n",
      "g\n",
      "n\n",
      "i\n",
      "r\n",
      "t\n",
      "s\n",
      " \n",
      "s\n",
      "e\n",
      "s\n",
      "r\n",
      "e\n",
      "v\n",
      "e\n",
      "r\n",
      " \n",
      "s\n",
      "s\n",
      "a\n",
      "l\n",
      "c\n",
      " \n",
      "r\n",
      "o\n",
      "t\n",
      "a\n",
      "r\n",
      "e\n",
      "t\n",
      "i\n",
      " \n",
      "s\n",
      "i\n",
      "h\n",
      "T\n"
     ]
    }
   ],
   "source": [
    "# create instance of the class\n",
    "rev = Reverse('This iterator class reverses strings.')\n",
    "\n",
    "# loop through it \n",
    "for char in rev:\n",
    "    print(char)"
   ]
  }
 ],
 "metadata": {
  "kernelspec": {
   "display_name": "Python 3",
   "language": "python",
   "name": "python3"
  },
  "language_info": {
   "codemirror_mode": {
    "name": "ipython",
    "version": 3
   },
   "file_extension": ".py",
   "mimetype": "text/x-python",
   "name": "python",
   "nbconvert_exporter": "python",
   "pygments_lexer": "ipython3",
   "version": "3.7.6"
  }
 },
 "nbformat": 4,
 "nbformat_minor": 4
}
