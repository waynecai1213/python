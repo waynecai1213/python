{
 "cells": [
  {
   "cell_type": "markdown",
   "metadata": {},
   "source": [
    "# Creating our Own Iterable Classes\n",
    "\n",
    "In this notebook we will make our own custom class iterable and create an iterator class for it. \n",
    "\n",
    "* Our own iterable class\n",
    "* Create an iterator class for it\n",
    "\n",
    "## Why should we make a class iterable?\n",
    "Custom classes we create are by defauly not iterable. If we want to iterate over objects inside our classes, we need to make them iterable and create iterator objects for them.\n",
    "\n",
    "## What we will make:\n",
    "* Create a class called BlackOwnedBrooklyn that contains lists of food & drink and home & design black-owned businesses in brooklyn \n",
    "* Create an object of this class and add some food & drink and home & design businesses to it\n",
    "* Make class iterable by adding `__iter__()`\n",
    "* Create an Iterator object for our class which has a `__next__()` methood\n",
    "<br><br>\n",
    "<hr>"
   ]
  },
  {
   "cell_type": "markdown",
   "metadata": {},
   "source": [
    "# Process\n",
    "## Step 1: Create our Class & an Instance of it"
   ]
  },
  {
   "cell_type": "code",
   "execution_count": 4,
   "metadata": {},
   "outputs": [],
   "source": [
    "# Create a class called BlackOwnedBrooklyn that contains \n",
    "# lists of Food & Drink and Home & Design owned Business in Brooklyn\n",
    "\n",
    "class BlackOwnedBrooklyn:\n",
    "    '''\n",
    "    Contains List of Food & Drink and Home & Design \n",
    "    Black-Owned Business in Brooklyn\n",
    "    '''\n",
    "    def __init__(self):\n",
    "        self.foodDrink = list()\n",
    "        self.homeDesign = list()\n",
    "        \n",
    "    def addFoodDrink(self, business):\n",
    "        self.foodDrink += business\n",
    "        \n",
    "    def addHomeDesign(self, business):\n",
    "        self.homeDesign += business\n"
   ]
  },
  {
   "cell_type": "code",
   "execution_count": 5,
   "metadata": {},
   "outputs": [],
   "source": [
    "# Create an object of this class \n",
    "black_owned = BlackOwnedBrooklyn()\n",
    "\n",
    "# Add name of food and drink businesses\n",
    "black_owned.addFoodDrink(['Brown Butter Craft Bar & Kitchen', 'Ras Plant Based', 'The Bergen', 'Cafe on Ralph', 'BK9', 'Black Nile', 'Nurish', 'BCakeNY'])\n",
    "\n",
    "# Add name of home and design businesses\n",
    "black_owned.addHomeDesign(['Make Manifest', 'Brooklyn Clay Industries', 'Ethel\\'s Club', 'Seasons', 'Papa Rozier Farms', 'Akwaaba Mansion', 'Paws and the City', 'Miles Culture'])"
   ]
  },
  {
   "cell_type": "markdown",
   "metadata": {},
   "source": [
    "## Testing if we can Iterate over Class\n",
    "\n",
    "Till now this class is not iterable, therefore if we call iter() function on the object of this class or try to iterate over this class's object using a for loop, we will get a TypeError. "
   ]
  },
  {
   "cell_type": "code",
   "execution_count": 6,
   "metadata": {},
   "outputs": [
    {
     "ename": "TypeError",
     "evalue": "'BlackOwnedBrooklyn' object is not iterable",
     "output_type": "error",
     "traceback": [
      "\u001b[0;31m---------------------------------------------------------------------------\u001b[0m",
      "\u001b[0;31mTypeError\u001b[0m                                 Traceback (most recent call last)",
      "\u001b[0;32m<ipython-input-6-2b24772a028b>\u001b[0m in \u001b[0;36m<module>\u001b[0;34m\u001b[0m\n\u001b[0;32m----> 1\u001b[0;31m \u001b[0miter\u001b[0m\u001b[0;34m(\u001b[0m\u001b[0mblack_owned\u001b[0m\u001b[0;34m)\u001b[0m\u001b[0;34m\u001b[0m\u001b[0;34m\u001b[0m\u001b[0m\n\u001b[0m",
      "\u001b[0;31mTypeError\u001b[0m: 'BlackOwnedBrooklyn' object is not iterable"
     ]
    }
   ],
   "source": [
    "iter(black_owned)"
   ]
  },
  {
   "cell_type": "code",
   "execution_count": 7,
   "metadata": {},
   "outputs": [
    {
     "ename": "TypeError",
     "evalue": "'BlackOwnedBrooklyn' object is not iterable",
     "output_type": "error",
     "traceback": [
      "\u001b[0;31m---------------------------------------------------------------------------\u001b[0m",
      "\u001b[0;31mTypeError\u001b[0m                                 Traceback (most recent call last)",
      "\u001b[0;32m<ipython-input-7-92150ccba26d>\u001b[0m in \u001b[0;36m<module>\u001b[0;34m\u001b[0m\n\u001b[0;32m----> 1\u001b[0;31m \u001b[0;32mfor\u001b[0m \u001b[0mbusiness\u001b[0m \u001b[0;32min\u001b[0m \u001b[0mblack_owned\u001b[0m\u001b[0;34m:\u001b[0m\u001b[0;34m\u001b[0m\u001b[0;34m\u001b[0m\u001b[0m\n\u001b[0m\u001b[1;32m      2\u001b[0m     \u001b[0mprint\u001b[0m\u001b[0;34m(\u001b[0m\u001b[0mbusiness\u001b[0m\u001b[0;34m)\u001b[0m\u001b[0;34m\u001b[0m\u001b[0;34m\u001b[0m\u001b[0m\n",
      "\u001b[0;31mTypeError\u001b[0m: 'BlackOwnedBrooklyn' object is not iterable"
     ]
    }
   ],
   "source": [
    "for business in black_owned:\n",
    "    print(business)"
   ]
  },
  {
   "cell_type": "markdown",
   "metadata": {},
   "source": [
    "## Step 2: Make our Class Iterable\n",
    "\n",
    "To make our class iterable, we need to override the `__iter__()` function inside our class to return the object of iterator class associated with this iterable class. \n",
    "\n",
    "```\n",
    "def __iter__(self):\n",
    "    pass\n",
    "```\n",
    "\n",
    "In this case, we call the iterator class BOBIterator and we will define it later."
   ]
  },
  {
   "cell_type": "code",
   "execution_count": 8,
   "metadata": {},
   "outputs": [],
   "source": [
    "class BlackOwnedBrooklyn:\n",
    "    '''\n",
    "    Contains List of Food & Drink and Home & Design \n",
    "    Black-Owned Business in Brooklyn\n",
    "    '''\n",
    "    def __init__(self):\n",
    "        self.foodDrink = list()\n",
    "        self.homeDesign = list()\n",
    "        \n",
    "    def addFoodDrink(self, business):\n",
    "        self.foodDrink += business\n",
    "        \n",
    "    def addHomeDesign(self, business):\n",
    "        self.homeDesign += business\n",
    "        \n",
    "    def __iter__(self):\n",
    "        ''' Returns the Iterator object '''\n",
    "        return BOBIterator(self)"
   ]
  },
  {
   "cell_type": "code",
   "execution_count": 9,
   "metadata": {},
   "outputs": [],
   "source": [
    "# Create an object of this class \n",
    "black_owned = BlackOwnedBrooklyn()\n",
    "\n",
    "# Add name of food and drink businesses\n",
    "black_owned.addFoodDrink(['Brown Butter Craft Bar & Kitchen', 'Ras Plant Based', 'The Bergen', 'Cafe on Ralph', 'BK9', 'Black Nile', 'Nurish', 'BCakeNY'])\n",
    "\n",
    "# Add name of home and design businesses\n",
    "black_owned.addHomeDesign(['Make Manifest', 'Brooklyn Clay Industries', 'Ethel\\'s Club', 'Seasons', 'Papa Rozier Farms', 'Akwaaba Mansion', 'Paws and the City', 'Miles Culture'])"
   ]
  },
  {
   "cell_type": "markdown",
   "metadata": {},
   "source": [
    "## Testing if we can Iterate over our Class now\n",
    "\n",
    "If we call the iter() function on the object of the class BlackOwnedBrooklyn, then it in turn calls the `__iter__()` function on this object which returns the object of iterator class Iterator."
   ]
  },
  {
   "cell_type": "code",
   "execution_count": 10,
   "metadata": {},
   "outputs": [
    {
     "name": "stdout",
     "output_type": "stream",
     "text": [
      "<__main__.BOBIterator object at 0x10dfc6150>\n"
     ]
    }
   ],
   "source": [
    "# get iterator object from iterable BlackOwnedBrooklyn class object\n",
    "\n",
    "iterator = iter(black_owned)\n",
    "\n",
    "print(iterator)"
   ]
  },
  {
   "cell_type": "markdown",
   "metadata": {},
   "source": [
    "## Step 3: Creating our Iterator Class\n",
    "\n",
    "To create an iterator class, we need to override `__next__()` function inside our class. \n",
    "```\n",
    "def __next__(self):\n",
    "    pass\n",
    "```\n",
    "\n",
    "Our `__next__()` function should be implemented in such a way that everytime we call the function, it should return the next element of the associated Iterable class. If there are no more elements then it should raise StopIteration. \n",
    "\n",
    "Our Iterator class should also be associated with the iterable object class in order to access its data members. To do this, we must pass the iterable obkect's references in the iterator's constructor. "
   ]
  },
  {
   "cell_type": "code",
   "execution_count": 11,
   "metadata": {},
   "outputs": [],
   "source": [
    "class BOBIterator:\n",
    "    ''' Iterator class '''\n",
    "   \n",
    "    def __init__(self, bob):\n",
    "        # BlackOwnedBrooklyn(BOB) object reference\n",
    "        self.bob = bob\n",
    "        # variable to keep track of current index\n",
    "        self.index = 0\n",
    "    \n",
    "    def __next__(self):\n",
    "        ''''Returns the next value from BOB object's lists '''\n",
    "       \n",
    "        if self.index < (len(self.bob.foodDrink) + len(self.bob.homeDesign)) :\n",
    "           \n",
    "            if self.index < len(self.bob.foodDrink): # Check if food & drink are fully iterated or not\n",
    "                result = (self.bob.foodDrink[self.index] , 'Food & Drink Category')\n",
    "            \n",
    "            else:\n",
    "                result = (self.bob.homeDesign[self.index - len(self.bob.foodDrink)]   , 'Home & Design Category')\n",
    "            \n",
    "            self.index +=1\n",
    "            return result\n",
    "        \n",
    "        # End of Iteration\n",
    "        raise StopIteration"
   ]
  },
  {
   "cell_type": "markdown",
   "metadata": {},
   "source": [
    "## Step 4: Iterate over the Contents of BlackOwnedBrooklyn Class using Iterators"
   ]
  },
  {
   "cell_type": "code",
   "execution_count": 12,
   "metadata": {},
   "outputs": [
    {
     "name": "stdout",
     "output_type": "stream",
     "text": [
      "('Brown Butter Craft Bar & Kitchen', 'Food & Drink Category')\n",
      "('Ras Plant Based', 'Food & Drink Category')\n",
      "('The Bergen', 'Food & Drink Category')\n",
      "('Cafe on Ralph', 'Food & Drink Category')\n",
      "('BK9', 'Food & Drink Category')\n",
      "('Black Nile', 'Food & Drink Category')\n",
      "('Nurish', 'Food & Drink Category')\n",
      "('BCakeNY', 'Food & Drink Category')\n",
      "('Make Manifest', 'Home & Design Category')\n",
      "('Brooklyn Clay Industries', 'Home & Design Category')\n",
      "(\"Ethel's Club\", 'Home & Design Category')\n",
      "('Seasons', 'Home & Design Category')\n",
      "('Papa Rozier Farms', 'Home & Design Category')\n",
      "('Akwaaba Mansion', 'Home & Design Category')\n",
      "('Paws and the City', 'Home & Design Category')\n",
      "('Miles Culture', 'Home & Design Category')\n"
     ]
    }
   ],
   "source": [
    "# Create class object\n",
    "black_owned = BlackOwnedBrooklyn()\n",
    "\n",
    "# Add name of food and drink businesses\n",
    "black_owned.addFoodDrink(['Brown Butter Craft Bar & Kitchen', 'Ras Plant Based', 'The Bergen', 'Cafe on Ralph', 'BK9', 'Black Nile', 'Nurish', 'BCakeNY'])\n",
    "\n",
    "# Add name of home and design businesses\n",
    "black_owned.addHomeDesign(['Make Manifest', 'Brooklyn Clay Industries', 'Ethel\\'s Club', 'Seasons', 'Papa Rozier Farms', 'Akwaaba Mansion', 'Paws and the City', 'Miles Culture'])\n",
    "\n",
    "\n",
    "\n",
    "# Iterate over BlackOwnedBrooklyn object\n",
    "for business in black_owned:\n",
    "    print(business)     \n",
    "        "
   ]
  },
  {
   "cell_type": "markdown",
   "metadata": {},
   "source": [
    "<hr>\n",
    "\n",
    "## Complete Example:\n",
    "### for an Iterable Class and its Iterator Object"
   ]
  },
  {
   "cell_type": "code",
   "execution_count": 1,
   "metadata": {},
   "outputs": [],
   "source": [
    "# Data source: https://www.blackownedbrooklyn.com/\n",
    "\n",
    "class BOBIterator:\n",
    "    ''' Iterator class '''\n",
    "   \n",
    "    def __init__(self, bob):\n",
    "        # BlackOwnedBrooklyn(BOB) object reference\n",
    "        self.bob = bob\n",
    "        # variable to keep track of current index\n",
    "        self.index = 0\n",
    "    \n",
    "    def __next__(self):\n",
    "        ''''Returns the next value from BOB object's lists '''\n",
    "       \n",
    "        if self.index < (len(self.bob.foodDrink) + len(self.bob.homeDesign)) :\n",
    "           \n",
    "            if self.index < len(self.bob.foodDrink): # Check if food & drink are fully iterated or not\n",
    "                result = (self.bob.foodDrink[self.index] , 'Food & Drink Category')\n",
    "            \n",
    "            else:\n",
    "                result = (self.bob.homeDesign[self.index - len(self.bob.foodDrink)]   , 'Home & Design Category')\n",
    "            \n",
    "            self.index +=1\n",
    "            return result\n",
    "        \n",
    "        # End of Iteration\n",
    "        raise StopIteration"
   ]
  },
  {
   "cell_type": "code",
   "execution_count": 2,
   "metadata": {},
   "outputs": [],
   "source": [
    "class BlackOwnedBrooklyn:\n",
    "    '''\n",
    "    Contains List of Food & Drink and Home & Design \n",
    "    Black-Owned Business in Brooklyn\n",
    "    '''\n",
    "    def __init__(self):\n",
    "        self.foodDrink = list()\n",
    "        self.homeDesign = list()\n",
    "        \n",
    "    def addFoodDrink(self, business):\n",
    "        self.foodDrink += business\n",
    "        \n",
    "    def addHomeDesign(self, business):\n",
    "        self.homeDesign += business\n",
    "        \n",
    "    def __iter__(self):\n",
    "        ''' Returns the Iterator object '''\n",
    "        return BOBIterator(self)"
   ]
  },
  {
   "cell_type": "code",
   "execution_count": 3,
   "metadata": {},
   "outputs": [
    {
     "name": "stdout",
     "output_type": "stream",
     "text": [
      "('Brown Butter Craft Bar & Kitchen', 'Food & Drink Category')\n",
      "('Ras Plant Based', 'Food & Drink Category')\n",
      "('The Bergen', 'Food & Drink Category')\n",
      "('Cafe on Ralph', 'Food & Drink Category')\n",
      "('BK9', 'Food & Drink Category')\n",
      "('Black Nile', 'Food & Drink Category')\n",
      "('Nurish', 'Food & Drink Category')\n",
      "('BCakeNY', 'Food & Drink Category')\n",
      "('Make Manifest', 'Home & Design Category')\n",
      "('Brooklyn Clay Industries', 'Home & Design Category')\n",
      "(\"Ethel's Club\", 'Home & Design Category')\n",
      "('Seasons', 'Home & Design Category')\n",
      "('Papa Rozier Farms', 'Home & Design Category')\n",
      "('Akwaaba Mansion', 'Home & Design Category')\n",
      "('Paws and the City', 'Home & Design Category')\n",
      "('Miles Culture', 'Home & Design Category')\n"
     ]
    }
   ],
   "source": [
    "# Create class object\n",
    "black_owned = BlackOwnedBrooklyn()\n",
    "\n",
    "# Add name of food and drink businesses\n",
    "black_owned.addFoodDrink(['Brown Butter Craft Bar & Kitchen', 'Ras Plant Based', 'The Bergen', 'Cafe on Ralph', 'BK9', 'Black Nile', 'Nurish', 'BCakeNY'])\n",
    "\n",
    "# Add name of home and design businesses\n",
    "black_owned.addHomeDesign(['Make Manifest', 'Brooklyn Clay Industries', 'Ethel\\'s Club', 'Seasons', 'Papa Rozier Farms', 'Akwaaba Mansion', 'Paws and the City', 'Miles Culture'])\n",
    "\n",
    "\n",
    "\n",
    "# Iterate over BlackOwnedBrooklyn object\n",
    "for business in black_owned:\n",
    "    print(business)"
   ]
  }
 ],
 "metadata": {
  "kernelspec": {
   "display_name": "Python 3",
   "language": "python",
   "name": "python3"
  },
  "language_info": {
   "codemirror_mode": {
    "name": "ipython",
    "version": 3
   },
   "file_extension": ".py",
   "mimetype": "text/x-python",
   "name": "python",
   "nbconvert_exporter": "python",
   "pygments_lexer": "ipython3",
   "version": "3.7.6"
  }
 },
 "nbformat": 4,
 "nbformat_minor": 4
}
