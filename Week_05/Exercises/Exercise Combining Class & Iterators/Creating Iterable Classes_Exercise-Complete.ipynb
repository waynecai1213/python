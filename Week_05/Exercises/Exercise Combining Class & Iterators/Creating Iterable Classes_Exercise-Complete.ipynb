{
 "cells": [
  {
   "cell_type": "markdown",
   "metadata": {},
   "source": [
    "# Creating our Own Iterable Classes\n",
    "\n",
    "In this notebook we combine the previous example to create one iterable class that is its own iterator. \n",
    "\n",
    "* One iterable class that is its own iterator\n",
    "\n",
    "## Why should we make a class iterable?\n",
    "Custom classes we create are by defauly not iterable. If we want to iterate over objects inside our classes, we need to make them iterable and create iterator objects for them.\n",
    "\n",
    "## What we will make:\n",
    "* Create a class called BlackOwnedBrooklyn that contains lists of food & drink and home & design black-owned businesses in brooklyn\n",
    "* Add iter and next methods & set logic for iteration\n",
    "* Create an object of this class and add some food & drink and home & design businesses to it\n",
    "\n",
    "<hr> \n",
    "\n",
    "## Complete Example\n",
    "### for an Iterable Class that is its own Iterator"
   ]
  },
  {
   "cell_type": "code",
   "execution_count": 30,
   "metadata": {},
   "outputs": [],
   "source": [
    "# Data source: https://www.blackownedbrooklyn.com/\n",
    "\n",
    "class BlackOwnedBrooklyn:\n",
    "    '''\n",
    "    Contains list of Food & Drink and Home & Design \n",
    "    Black-Owned Businesses in Brooklyn \n",
    "    '''\n",
    "    def __init__(self):\n",
    "        self.foodDrink = list()\n",
    "        self.homeDesign = list()\n",
    "        \n",
    "    def addFoodDrink(self,  business):\n",
    "        self.foodDrink += business\n",
    "        \n",
    "    def addHomeDesign(self, business):\n",
    "        self.homeDesign += business\n",
    "        \n",
    "    def __iter__(self):\n",
    "        ''' Returns the Iterator object '''\n",
    "        # variable to keep track of current index\n",
    "        self._index = 0\n",
    "        return self\n",
    "    \n",
    "    def __next__(self):\n",
    "        ''''Returns the next value from object's lists '''\n",
    "        if self._index < (len(self.foodDrink) + len(self.homeDesign)) :\n",
    "            \n",
    "            if self._index < len(self.foodDrink): # Check if food & drink are fully iterated or not\n",
    "                result = (self.foodDrink[self._index] , 'Food & Drink Category')\n",
    "            else:\n",
    "                result = (self.homeDesign[self._index - len(self.foodDrink)]   , 'Home & Design Category')\n",
    "            \n",
    "            self._index +=1\n",
    "            return result\n",
    "        \n",
    "        # End of Iteration\n",
    "        raise StopIteration    "
   ]
  },
  {
   "cell_type": "code",
   "execution_count": 31,
   "metadata": {},
   "outputs": [],
   "source": [
    "# Create class object\n",
    "black_owned = BlackOwnedBrooklyn()\n",
    "\n",
    "# Add name of food and drink businesses\n",
    "black_owned.addFoodDrink(['Brown Butter Craft Bar & Kitchen', 'Ras Plant Based', 'The Bergen', 'Cafe on Ralph', 'BK9', 'Black Nile', 'Nurish', 'BCakeNY'])\n",
    "\n",
    "# Add name of home and design businesses\n",
    "black_owned.addHomeDesign(['Make Manifest', 'Brooklyn Clay Industries', 'Ethel\\'s Club', 'Seasons', 'Papa Rozier Farms', 'Akwaaba Mansion', 'Paws and the City', 'Miles Culture'])"
   ]
  },
  {
   "cell_type": "code",
   "execution_count": 32,
   "metadata": {},
   "outputs": [
    {
     "name": "stdout",
     "output_type": "stream",
     "text": [
      "('Brown Butter Craft Bar & Kitchen', 'Food & Drink Category')\n",
      "('Ras Plant Based', 'Food & Drink Category')\n",
      "('The Bergen', 'Food & Drink Category')\n",
      "('Cafe on Ralph', 'Food & Drink Category')\n",
      "('BK9', 'Food & Drink Category')\n",
      "('Black Nile', 'Food & Drink Category')\n",
      "('Nurish', 'Food & Drink Category')\n",
      "('BCakeNY', 'Food & Drink Category')\n",
      "('Make Manifest', 'Home & Design Category')\n",
      "('Brooklyn Clay Industries', 'Home & Design Category')\n",
      "(\"Ethel's Club\", 'Home & Design Category')\n",
      "('Seasons', 'Home & Design Category')\n",
      "('Papa Rozier Farms', 'Home & Design Category')\n",
      "('Akwaaba Mansion', 'Home & Design Category')\n",
      "('Paws and the City', 'Home & Design Category')\n",
      "('Miles Culture', 'Home & Design Category')\n"
     ]
    }
   ],
   "source": [
    "# Iterate over BlackOwnedBrooklyn object\n",
    "\n",
    "for business in black_owned:\n",
    "    print(business)"
   ]
  }
 ],
 "metadata": {
  "kernelspec": {
   "display_name": "Python 3",
   "language": "python",
   "name": "python3"
  },
  "language_info": {
   "codemirror_mode": {
    "name": "ipython",
    "version": 3
   },
   "file_extension": ".py",
   "mimetype": "text/x-python",
   "name": "python",
   "nbconvert_exporter": "python",
   "pygments_lexer": "ipython3",
   "version": "3.7.6"
  }
 },
 "nbformat": 4,
 "nbformat_minor": 4
}
