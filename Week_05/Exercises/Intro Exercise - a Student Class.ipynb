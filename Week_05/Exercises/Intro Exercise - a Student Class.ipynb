{
 "cells": [
  {
   "cell_type": "markdown",
   "metadata": {},
   "source": [
    "# Getting into Class\n",
    "This exercise is to get you familiar with the idea of creating your own class object.\n",
    "\n",
    "This will create a generic Student class that we will be able to extend with other class objects.\n",
    "\n",
    "Your Class should be able to create an Student object instance with the following properties\n",
    "\n",
    "* Construct with default attributes for School Name, Student First Name and Last Name\n",
    "* Methods to update any of these above attributes\n",
    "* An overloaded method for the str() function to return the Student attributes in a string formatted sentence \"{FirstName} {LastName} is a student of {SchoolName}\"\n",
    "\n",
    "You are free to implement this class however you like. The testing code is included below. \n",
    "Don't be afraid to check the <a href=\"https://docs.python.org/3/tutorial/classes.html\"> documentation</a> or any other resources you would like! Internet searching is a big part of promgramming"
   ]
  },
  {
   "cell_type": "code",
   "execution_count": 8,
   "metadata": {},
   "outputs": [],
   "source": [
    "#Define your Class below\n",
    "\"\"\"\n",
    "for reference, the boilerplate class declaration is\n",
    "\n",
    "class ClassName:\n",
    "    def __init__(self):\n",
    "        pass\n",
    "\n",
    "\"\"\"\n",
    "\n",
    "class Student:\n",
    "    \n",
    "    def __init__(self, schoolName, firstName, lastName):\n",
    "        self.schoolName = schoolName\n",
    "        self.firstName = firstName\n",
    "        self.lastName = lastName\n",
    "        return None\n",
    "    \n",
    "    def updateSchool(self, updatedSchoolName):\n",
    "        self.schoolName = updatedSchoolName\n",
    "        return self\n",
    "    def updateFirstName(self, updatedFirstName):\n",
    "        self.firstName = updatedFirstName\n",
    "        return self\n",
    "    def updateLastName(self, updatedLastName):\n",
    "        self.lastName = updatedLastName\n",
    "        return self\n",
    "    \n",
    "    def __str__(self):\n",
    "        return '%s %s is a student of %s' % (self.firstName, self.lastName, self.schoolName)\n"
   ]
  },
  {
   "cell_type": "code",
   "execution_count": 10,
   "metadata": {},
   "outputs": [
    {
     "name": "stdout",
     "output_type": "stream",
     "text": [
      "Sohee Cho is a student of who knows where\n"
     ]
    }
   ],
   "source": [
    "#This is your testing code\n",
    "\n",
    "student1 = Student('The New School', 'Sohee', 'Cho')\n",
    "student1.updateSchool('who knows where')\n",
    "print(str(student1))"
   ]
  },
  {
   "cell_type": "markdown",
   "metadata": {},
   "source": [
    "### Challenges\n",
    "\n",
    "Before looking at any of these specific challenges, look back at the class you've created. Are there features of Students that you think are missing? Go ahead and just try and add them yourself! These can be things like registered classes, graduation year, enrollment status, etc. Anything you can think of! Class flexibility is designed so that your approach reflects your own personal understanding of the problem. But for a more structured challenge read on...\n",
    "\n",
    "The challenges here extend the functionality of the base class. These are in topics of class attributes, magic methods, inheritance, and iteration. Don't be afraid to check python documentation on these problems to look for implementation help! No one codes alone!\n",
    "\n",
    "Class is where your own ideas get to come through as a programmer and designer. So there is no one right way to any of these. Give it your best shot and also be creative!\n",
    "\n",
    "#### Challenge #1 add an class wide attribute student count and give every student an ID\n",
    "Create a Class wide count of students that tracks how many students have been created. Then, usi that attriute to give every student a unique ID.\n",
    "\n",
    "#### Challenge #2 add a behavioral method to the students\n",
    "What kind of behavior should a student have? What do they do? Do they study? Research? Maybe a student can declare a major or focus of study?\n",
    "\n",
    "Implement the method and the appropriate attributes that allows a student to print a statement about themselves. These can be as simple as \"say my own name\" or something like printing the student's favorite faculty member\n",
    "\n",
    "#### Challenge #3 create a subclass called Graduate Student\n",
    "The Graduate student should inherit from the base Student class. How do you think Graduate Students should be differentiated from the base Student? Add your own attribute or methods that you think they should have.\n",
    "\n",
    "#### Challenge #4 Create a School Class that has Students as attributes\n",
    "This is a separate class that is called School that can enroll Students, and graduate students. Maybe it can track its own endowment. This would be a large class that is meant to process these students in some way. \n"
   ]
  },
  {
   "cell_type": "code",
   "execution_count": 47,
   "metadata": {},
   "outputs": [],
   "source": [
    "class Student:\n",
    "    \n",
    "    studentCount = 0\n",
    "    \n",
    "    def __init__(self, schoolName, firstName, lastName):\n",
    "        self.schoolName = schoolName\n",
    "        self.firstName = firstName\n",
    "        self.lastName = lastName\n",
    "        Student.studentCount += 1\n",
    "        self.studentID = Student.studentCount\n",
    "        return None\n",
    "    \n",
    "    def updateSchool(self, updatedSchoolName):\n",
    "        self.schoolName = updatedSchoolName\n",
    "        return self\n",
    "    def updateFirstName(self, updatedFirstName):\n",
    "        self.firstName = updatedFirstName\n",
    "        return self\n",
    "    def updateLastName(self, updatedLastName):\n",
    "        self.lastName = updatedLastName\n",
    "        return self\n",
    "    \n",
    "    def setCatchPhrase(self,phrase):\n",
    "        self.catchPhrase = phrase\n",
    "    \n",
    "    def sayCatchPhrase(self):\n",
    "        print(self.catchPhrase)\n",
    "        \n",
    "    def __str__(self):\n",
    "        return '%s %s is a student of %s' % (self.firstName, self.lastName, self.schoolName)\n"
   ]
  },
  {
   "cell_type": "code",
   "execution_count": 48,
   "metadata": {},
   "outputs": [
    {
     "name": "stdout",
     "output_type": "stream",
     "text": [
      "It is over for you.\n"
     ]
    }
   ],
   "source": [
    "\n",
    "student1 = Student('The New School', 'Sohee', 'Cho')\n",
    "\n",
    "student2 = Student('The New School', 'Jason', 'Li')\n",
    "\n",
    "student3 = Student('The New School', 'Shirley', 'Leung')\n",
    "\n",
    "student1.setCatchPhrase(\"It is over for you.\")\n",
    "student1.sayCatchPhrase()"
   ]
  },
  {
   "cell_type": "code",
   "execution_count": 49,
   "metadata": {},
   "outputs": [],
   "source": [
    "class GradStudent(Student):\n",
    "    \n",
    "    studentCount = 0\n",
    "    \n",
    "    def __init__(self,schoolName, programType, firstName, lastName):\n",
    "        super().__init__(schoolName,firstName,lastName)\n",
    "        self.programType = programType\n",
    "        GradStudent.studentCount += 1\n",
    "        return None\n",
    "    \n",
    "    def sayProgram(self):\n",
    "        print('I am a %s student' % (self.programType))"
   ]
  },
  {
   "cell_type": "code",
   "execution_count": 50,
   "metadata": {},
   "outputs": [],
   "source": [
    "student4 = GradStudent('Parsons','Masters','Daeyoung','Kim')"
   ]
  },
  {
   "cell_type": "code",
   "execution_count": 52,
   "metadata": {},
   "outputs": [
    {
     "name": "stdout",
     "output_type": "stream",
     "text": [
      "I am a Masters student\n",
      "1\n",
      "4\n"
     ]
    }
   ],
   "source": [
    "student4.sayProgram()\n",
    "\n",
    "print(GradStudent.studentCount)\n",
    "print(Student.studentCount)"
   ]
  },
  {
   "cell_type": "code",
   "execution_count": 64,
   "metadata": {},
   "outputs": [],
   "source": [
    "class School:\n",
    "    \n",
    "    studentCount = 0\n",
    "    \n",
    "    def __init__(self, name):\n",
    "        self.name = name\n",
    "        self.students = []\n",
    "        return None\n",
    "    \n",
    "    def AddStudent(self, student):\n",
    "        self.students.append(student)\n",
    "        return self\n",
    "    \n",
    "    def GetStudents(self):\n",
    "        for student in self.Students:\n",
    "            print(str(student))\n",
    "        return None"
   ]
  },
  {
   "cell_type": "code",
   "execution_count": 65,
   "metadata": {
    "scrolled": true
   },
   "outputs": [
    {
     "name": "stdout",
     "output_type": "stream",
     "text": [
      "Daeyoung Kim is a student of Parsons\n",
      "Shirley Leung is a student of The New School\n",
      "Jason Li is a student of The New School\n",
      "Sohee Cho is a student of The New School\n"
     ]
    }
   ],
   "source": [
    "parsons = School(\"Parsons\")\n",
    "parsons.AddStudent(student4)\n",
    "parsons.AddStudent(student3)\n",
    "parsons.AddStudent(student2)\n",
    "parsons.AddStudent(student1)\n",
    "\n",
    "parsons.GetStudents()"
   ]
  },
  {
   "cell_type": "code",
   "execution_count": null,
   "metadata": {},
   "outputs": [],
   "source": []
  }
 ],
 "metadata": {
  "kernelspec": {
   "display_name": "Python 3",
   "language": "python",
   "name": "python3"
  },
  "language_info": {
   "codemirror_mode": {
    "name": "ipython",
    "version": 3
   },
   "file_extension": ".py",
   "mimetype": "text/x-python",
   "name": "python",
   "nbconvert_exporter": "python",
   "pygments_lexer": "ipython3",
   "version": "3.7.4"
  }
 },
 "nbformat": 4,
 "nbformat_minor": 2
}
