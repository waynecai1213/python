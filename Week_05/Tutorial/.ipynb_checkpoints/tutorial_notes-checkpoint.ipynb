{
 "cells": [
  {
   "cell_type": "markdown",
   "metadata": {},
   "source": [
    "# Week 5: Personal Class Notes\n",
    "\n",
    "This is a notebook I created for myself. It goes over some of the concepts and topics introduced in week five."
   ]
  },
  {
   "cell_type": "markdown",
   "metadata": {},
   "source": [
    "## What are Classes?\n",
    "\n",
    "Python is an __object-oriented programming language__. One of the most important concepts in object-oriented programming is the distinction between classes and objects, which are defined as follows:\n",
    "\n",
    "__Class__ — A blueprint created by a programmer for an object. This defines a set of attributes that will characterize any object that is instantiated from this class.\n",
    "\n",
    "__Object__ — An instance of a class. This is the realized version of the class, where the class is manifested in the program.\n",
    "\n",
    "These are used to create patterns (in the case of classes) and then make use of the patterns (in the case of objects)."
   ]
  },
  {
   "cell_type": "code",
   "execution_count": 157,
   "metadata": {},
   "outputs": [
    {
     "name": "stdout",
     "output_type": "stream",
     "text": [
      "value\n",
      "Hello\n"
     ]
    }
   ],
   "source": [
    "class ClassName:\n",
    "\n",
    "    def __init__(self, attribute):\n",
    "        self.attribute = attribute\n",
    "\n",
    "    def sayHello(self):\n",
    "        return 'Hello'\n",
    "    \n",
    "instance = ClassName('value')\n",
    "print(instance.attribute)\n",
    "print(instance.sayHello())"
   ]
  },
  {
   "cell_type": "markdown",
   "metadata": {},
   "source": [
    "## The Constructor Method\n",
    "\n",
    "This method is used to carry out any initializing you would like to do with your class objects.\n",
    "Needed if you want your class to have instance variables!"
   ]
  },
  {
   "cell_type": "code",
   "execution_count": 158,
   "metadata": {},
   "outputs": [],
   "source": [
    "class MyClass:\n",
    "    \n",
    "    def __init__(self, first_variable, second_variable):\n",
    "        self.first_variable = first_variable\n",
    "        self.second_variable = second_variable\n",
    "        \n",
    "instance_1 = MyClass('Hello', 'Sven')\n",
    "instance_2 = MyClass(1, 2)"
   ]
  },
  {
   "cell_type": "markdown",
   "metadata": {},
   "source": [
    "## Instance Variables\n",
    "Instance variables are owned by instances of the class."
   ]
  },
  {
   "cell_type": "code",
   "execution_count": 160,
   "metadata": {},
   "outputs": [
    {
     "name": "stdout",
     "output_type": "stream",
     "text": [
      "Hello\n",
      "1\n",
      "Sven\n",
      "2\n"
     ]
    }
   ],
   "source": [
    "print(instance_1.first_variable)\n",
    "print(instance_2.first_variable)\n",
    "print(instance_1.second_variable)\n",
    "print(instance_2.second_variable)"
   ]
  },
  {
   "cell_type": "markdown",
   "metadata": {},
   "source": [
    "## Class Variables\n",
    "Class variables are defined within the class construction."
   ]
  },
  {
   "cell_type": "code",
   "execution_count": 161,
   "metadata": {},
   "outputs": [
    {
     "name": "stdout",
     "output_type": "stream",
     "text": [
      "Sven\n",
      "['Sohee', 'Mary Ann', 'Jill', 'Anna']\n",
      "100\n",
      "Sven\n"
     ]
    }
   ],
   "source": [
    "class Course:\n",
    "    instructor = \"Sven\"\n",
    "    assistants = ['Sohee', 'Mary Ann', 'Jill', 'Anna']\n",
    "    students = 100\n",
    "\n",
    "new_course = Course()\n",
    "print(new_course.instructor)\n",
    "print(new_course.assistants)\n",
    "print(new_course.students)\n",
    "\n",
    "different_course = Course()\n",
    "print(different_course.instructor)"
   ]
  },
  {
   "cell_type": "markdown",
   "metadata": {},
   "source": [
    "## Class Inheritance\n",
    "\n",
    "Inheritance is when a class uses code constructed within another class. Classes called __child classes__ (or subclasses) inherit methods and variables from __parent classes__ (also base classes)."
   ]
  },
  {
   "cell_type": "code",
   "execution_count": 162,
   "metadata": {},
   "outputs": [
    {
     "name": "stdout",
     "output_type": "stream",
     "text": [
      "MFA Design and Technology is a Graduate level program.\n",
      "At the AMT department.\n",
      "Sohee is a student in the MFA Design and Technology program.\n"
     ]
    }
   ],
   "source": [
    "class ParsonsPrograms:\n",
    "    def __init__(self, program, level=\"Graduate\",\n",
    "                 school=\"AMT\"):\n",
    "        self.program = program\n",
    "        self.level = level\n",
    "        self.school = school\n",
    "\n",
    "    def level_info(self):\n",
    "        print('{} is a {} level program.'.format(self.program, self.level))\n",
    "\n",
    "    def school_info(self):\n",
    "        print('At the {} department.'.format(self.school))\n",
    "\n",
    "# We can define DT as a child class of ParsonsPrograms by passing the parent as a parameter.\n",
    "class MFADT(ParsonsPrograms):\n",
    "    \n",
    "    # We can now add functionality specific to the child class\n",
    "    def students(self, student):\n",
    "        print('{} is a student in the {} program.'.format(student, self.program))\n",
    "\n",
    "# Define a DT object\n",
    "dt = MFADT('MFA Design and Technology')\n",
    "# The DT object can use methods of its parent class\n",
    "dt.level_info()\n",
    "dt.school_info()\n",
    "# Additional to it's own methods\n",
    "dt.students('Sohee')"
   ]
  },
  {
   "cell_type": "markdown",
   "metadata": {},
   "source": [
    "It is also possible to __overwrite parent methods__:"
   ]
  },
  {
   "cell_type": "code",
   "execution_count": 177,
   "metadata": {},
   "outputs": [
    {
     "name": "stdout",
     "output_type": "stream",
     "text": [
      "BS Photography is a Undergraduate level program.\n",
      "Someone is the head of the BS Photography program.\n"
     ]
    }
   ],
   "source": [
    "class BSPhotography(ParsonsPrograms):\n",
    "    \n",
    "    # BS Photography is an undergraduate degree, so we want to overwrite\n",
    "    # the init method of the parent class\n",
    "    def __init__(self, program, level=\"Undergraduate\", school=\"AMT\"):\n",
    "        self.program = program\n",
    "        self.level = level\n",
    "        self.school = school\n",
    "        \n",
    "    def head(self, name):\n",
    "        print('{} is the head of the {} program.'.format(name, self.program))\n",
    "        \n",
    "photo = BSPhotography('BS Photography')\n",
    "photo.level_info()\n",
    "photo.head('Someone')"
   ]
  },
  {
   "cell_type": "markdown",
   "metadata": {},
   "source": [
    "### The super() Function\n",
    "With the super() function, you can access attributes and methods of a parent class that have been overwritten."
   ]
  },
  {
   "cell_type": "code",
   "execution_count": 183,
   "metadata": {},
   "outputs": [
    {
     "name": "stdout",
     "output_type": "stream",
     "text": [
      "True\n",
      "New Program is a Graduate level program.\n"
     ]
    }
   ],
   "source": [
    "class Other(ParsonsPrograms):\n",
    "    \n",
    "    # overwrite the constructor method to introduce new attribute\n",
    "    def __init__(self, fulltime = True):\n",
    "        self.fulltime = fulltime\n",
    "        # call the super() function to regain functionality\n",
    "        # of the parent's constructor method\n",
    "        super().__init__(self)\n",
    "\n",
    "# because we've overwritten the constructor method\n",
    "# the instance doesn't take a 'program' parameter anymore \n",
    "# if we passed a parameter anyway it would reset 'fulltime' instead\n",
    "other_instance = Other()\n",
    "# pass an argument for 'program' manually\n",
    "other_instance.program = 'New Program'\n",
    "# call and print the new fulltime attribute\n",
    "print(other_instance.fulltime)\n",
    "other_instance.level_info()"
   ]
  },
  {
   "cell_type": "markdown",
   "metadata": {},
   "source": [
    "## Operator and Function Overloading\n",
    "\n",
    "Python has a number of built-in functions and operators, that can be applied to built-in data types (strings, numbers, lists, ...). For example:\n",
    "\n",
    "##### - len(*object*)\n",
    "returns the length of an object\n",
    "\n",
    "##### - [*index*]\n",
    "obtains the value of an iterable at specified index \n",
    "\n",
    "##### - print(*argument*)\n",
    "outputs the keyword argument, converted to a string\n",
    "\n",
    "\n",
    "### What happens when you call a built-in function?\n",
    "\n",
    "Each built-in function or operator has a special method corresponding to it (also called magic or dunder method)."
   ]
  },
  {
   "cell_type": "code",
   "execution_count": 164,
   "metadata": {},
   "outputs": [
    {
     "data": {
      "text/plain": [
       "6"
      ]
     },
     "execution_count": 164,
     "metadata": {},
     "output_type": "execute_result"
    }
   ],
   "source": [
    "# When you’re calling len() on an object, \n",
    "# Python handles the call as obj.__len__()\n",
    "\n",
    "x = 'Python'\n",
    "len(x)"
   ]
  },
  {
   "cell_type": "code",
   "execution_count": 154,
   "metadata": {},
   "outputs": [
    {
     "data": {
      "text/plain": [
       "6"
      ]
     },
     "execution_count": 154,
     "metadata": {},
     "output_type": "execute_result"
    }
   ],
   "source": [
    "x.__len__()"
   ]
  },
  {
   "cell_type": "code",
   "execution_count": 12,
   "metadata": {},
   "outputs": [
    {
     "data": {
      "text/plain": [
       "'banana'"
      ]
     },
     "execution_count": 12,
     "metadata": {},
     "output_type": "execute_result"
    }
   ],
   "source": [
    "# When you use the [] operator on an iterable, \n",
    "# Python handles it as itr.__getitem__(index)\n",
    "\n",
    "list = ['apple', 'banana', 'peach']\n",
    "list[1]"
   ]
  },
  {
   "cell_type": "code",
   "execution_count": 13,
   "metadata": {},
   "outputs": [
    {
     "data": {
      "text/plain": [
       "'banana'"
      ]
     },
     "execution_count": 13,
     "metadata": {},
     "output_type": "execute_result"
    }
   ],
   "source": [
    "list.__getitem__(1)"
   ]
  },
  {
   "cell_type": "markdown",
   "metadata": {},
   "source": [
    "Using __dir()__ on an object returns a list of all the methods and special methods that can be used on this object."
   ]
  },
  {
   "cell_type": "code",
   "execution_count": 15,
   "metadata": {},
   "outputs": [
    {
     "data": {
      "text/plain": [
       "['__add__',\n",
       " '__class__',\n",
       " '__contains__',\n",
       " '__delattr__',\n",
       " '__dir__',\n",
       " '__doc__',\n",
       " '__eq__',\n",
       " '__format__',\n",
       " '__ge__',\n",
       " '__getattribute__',\n",
       " '__getitem__',\n",
       " '__getnewargs__',\n",
       " '__gt__',\n",
       " '__hash__',\n",
       " '__init__',\n",
       " '__init_subclass__',\n",
       " '__iter__',\n",
       " '__le__',\n",
       " '__len__',\n",
       " '__lt__',\n",
       " '__mod__',\n",
       " '__mul__',\n",
       " '__ne__',\n",
       " '__new__',\n",
       " '__reduce__',\n",
       " '__reduce_ex__',\n",
       " '__repr__',\n",
       " '__rmod__',\n",
       " '__rmul__',\n",
       " '__setattr__',\n",
       " '__sizeof__',\n",
       " '__str__',\n",
       " '__subclasshook__',\n",
       " 'capitalize',\n",
       " 'casefold',\n",
       " 'center',\n",
       " 'count',\n",
       " 'encode',\n",
       " 'endswith',\n",
       " 'expandtabs',\n",
       " 'find',\n",
       " 'format',\n",
       " 'format_map',\n",
       " 'index',\n",
       " 'isalnum',\n",
       " 'isalpha',\n",
       " 'isascii',\n",
       " 'isdecimal',\n",
       " 'isdigit',\n",
       " 'isidentifier',\n",
       " 'islower',\n",
       " 'isnumeric',\n",
       " 'isprintable',\n",
       " 'isspace',\n",
       " 'istitle',\n",
       " 'isupper',\n",
       " 'join',\n",
       " 'ljust',\n",
       " 'lower',\n",
       " 'lstrip',\n",
       " 'maketrans',\n",
       " 'partition',\n",
       " 'replace',\n",
       " 'rfind',\n",
       " 'rindex',\n",
       " 'rjust',\n",
       " 'rpartition',\n",
       " 'rsplit',\n",
       " 'rstrip',\n",
       " 'split',\n",
       " 'splitlines',\n",
       " 'startswith',\n",
       " 'strip',\n",
       " 'swapcase',\n",
       " 'title',\n",
       " 'translate',\n",
       " 'upper',\n",
       " 'zfill']"
      ]
     },
     "execution_count": 15,
     "metadata": {},
     "output_type": "execute_result"
    }
   ],
   "source": [
    "# We defined x as a string earlier,\n",
    "# following methods are available for string objects.\n",
    "\n",
    "dir(x)"
   ]
  },
  {
   "cell_type": "markdown",
   "metadata": {},
   "source": [
    "By default, most of the built-in functions and operators will not work with objects of your classes:"
   ]
  },
  {
   "cell_type": "code",
   "execution_count": 38,
   "metadata": {},
   "outputs": [],
   "source": [
    "class PythonClass:\n",
    "    def __init__(self, tas, course):\n",
    "        self.tas = tas\n",
    "        self.course = course\n",
    "\n",
    "# create custom 'PythonClass' object with attribute 'TAs'\n",
    "assistants = PythonClass(['Sohee', 'Karen', 'Anna', 'Shirley', 'Fifi'], 'Python Summer')"
   ]
  },
  {
   "cell_type": "code",
   "execution_count": 35,
   "metadata": {},
   "outputs": [
    {
     "ename": "TypeError",
     "evalue": "object of type 'PythonClass' has no len()",
     "output_type": "error",
     "traceback": [
      "\u001b[0;31m---------------------------------------------------------------------------\u001b[0m",
      "\u001b[0;31mTypeError\u001b[0m                                 Traceback (most recent call last)",
      "\u001b[0;32m<ipython-input-35-8278cf00607f>\u001b[0m in \u001b[0;36m<module>\u001b[0;34m\u001b[0m\n\u001b[1;32m      1\u001b[0m \u001b[0;31m# this will produce a TypeError:\u001b[0m\u001b[0;34m\u001b[0m\u001b[0;34m\u001b[0m\u001b[0;34m\u001b[0m\u001b[0m\n\u001b[0;32m----> 2\u001b[0;31m \u001b[0mlen\u001b[0m\u001b[0;34m(\u001b[0m\u001b[0massistants\u001b[0m\u001b[0;34m)\u001b[0m\u001b[0;34m\u001b[0m\u001b[0;34m\u001b[0m\u001b[0m\n\u001b[0m",
      "\u001b[0;31mTypeError\u001b[0m: object of type 'PythonClass' has no len()"
     ]
    }
   ],
   "source": [
    "# try to use the len() function\n",
    "# this will produce a TypeError:\n",
    "len(assistants)"
   ]
  },
  {
   "cell_type": "markdown",
   "metadata": {},
   "source": [
    "REMEMBER: There are many ways to achieve a desired result in programming."
   ]
  },
  {
   "cell_type": "code",
   "execution_count": 37,
   "metadata": {},
   "outputs": [
    {
     "data": {
      "text/plain": [
       "5"
      ]
     },
     "execution_count": 37,
     "metadata": {},
     "output_type": "execute_result"
    }
   ],
   "source": [
    "# You could return the length of 'tas' this way:\n",
    "len(assistants.tas)"
   ]
  },
  {
   "cell_type": "code",
   "execution_count": 41,
   "metadata": {},
   "outputs": [
    {
     "data": {
      "text/plain": [
       "5"
      ]
     },
     "execution_count": 41,
     "metadata": {},
     "output_type": "execute_result"
    }
   ],
   "source": [
    "# Or you could create a custom method:\n",
    "\n",
    "class PythonClass:\n",
    "    def __init__(self, tas, course):\n",
    "        self.tas = tas\n",
    "        self.course = course\n",
    "        \n",
    "    def get_len(self):\n",
    "        return len(self.tas)\n",
    "\n",
    "# create custom 'PythonClass' object with attribute 'TAs'\n",
    "assistants = PythonClass(['Sohee', 'Karen', 'Anna', 'Shirley', 'Fifi'], 'Python Summer')\n",
    "\n",
    "assistants.get_len()"
   ]
  },
  {
   "cell_type": "markdown",
   "metadata": {},
   "source": [
    "However, a more elegant way is to make built-in functions compatible with your class by adding the corresponding special methods in the class definition. This is also called __function overloading__.\n",
    "\n",
    "### Overloading built-in functions\n",
    "\n",
    "To change the behavior of len(), you need to define the __ len __ () special method in your class. Whenever you pass an object of your class to len(), your custom definition of __ len __ () will be used to obtain the result."
   ]
  },
  {
   "cell_type": "code",
   "execution_count": 42,
   "metadata": {},
   "outputs": [
    {
     "data": {
      "text/plain": [
       "5"
      ]
     },
     "execution_count": 42,
     "metadata": {},
     "output_type": "execute_result"
    }
   ],
   "source": [
    "class PythonClass:\n",
    "    def __init__(self, tas, course):\n",
    "        self.tas = tas\n",
    "        self.course = course\n",
    "    \n",
    "    # override the len() method in class definitions:\n",
    "    def __len__(self):\n",
    "        return len(self.tas)\n",
    "\n",
    "assistants = PythonClass(['Sohee', 'Karen', 'Anna', 'Shirley', 'Fifi'], 'Python Summer')\n",
    "\n",
    "# now we can use the len() method directly on our class object\n",
    "len(assistants)"
   ]
  },
  {
   "cell_type": "markdown",
   "metadata": {},
   "source": [
    "### References:\n",
    "\n",
    "This is a great tutorial explaining function and operator overloading more in depht:\n",
    "https://realpython.com/operator-function-overloading/#the-python-data-model"
   ]
  },
  {
   "cell_type": "markdown",
   "metadata": {},
   "source": [
    "## Keywords in Python\n",
    "\n",
    "Keywords are the reserved words in Python. We cannot use a keyword as a variable name, function name or any other identifier.\n",
    "\n",
    "This is great collection of all Python keywords:\n",
    "https://www.programiz.com/python-programming/keyword-list\n",
    "\n",
    "### return\n",
    "used inside a function to exit it and return a value.\n",
    "\n",
    "If we do not return a value explicitly, *None* is returned automatically."
   ]
  },
  {
   "cell_type": "code",
   "execution_count": 89,
   "metadata": {},
   "outputs": [
    {
     "name": "stdout",
     "output_type": "stream",
     "text": [
      "10\n",
      "None\n"
     ]
    }
   ],
   "source": [
    "def func_return():\n",
    "    a = 10\n",
    "    return a\n",
    "\n",
    "def no_return():\n",
    "    a = 10\n",
    "\n",
    "print(func_return())\n",
    "print(no_return())"
   ]
  },
  {
   "cell_type": "markdown",
   "metadata": {},
   "source": [
    "### pass\n",
    "pass is a null statement in Python. \n",
    "\n",
    "Nothing happens when it is executed. It is used as a placeholder."
   ]
  },
  {
   "cell_type": "code",
   "execution_count": 98,
   "metadata": {},
   "outputs": [],
   "source": [
    "def example():\n",
    "    pass\n",
    "\n",
    "example()"
   ]
  },
  {
   "cell_type": "markdown",
   "metadata": {},
   "source": [
    "### yield\n",
    "used inside a function like a return statement. \n",
    "\n",
    "But yield returns a generator (a generator is an iterator that generates one item at a time). "
   ]
  },
  {
   "cell_type": "code",
   "execution_count": 90,
   "metadata": {},
   "outputs": [
    {
     "name": "stdout",
     "output_type": "stream",
     "text": [
      "0\n",
      "1\n",
      "4\n",
      "9\n",
      "16\n",
      "25\n"
     ]
    }
   ],
   "source": [
    "def generator():\n",
    "    for i in range(6):\n",
    "        yield i*i\n",
    "\n",
    "g = generator()\n",
    "for i in g:\n",
    "    print(i)"
   ]
  },
  {
   "cell_type": "markdown",
   "metadata": {},
   "source": [
    "### try, except\n",
    "are used with exceptions in Python.\n",
    "\n",
    "In Python, exceptions can be handled using a try statement. The critical operation which can raise an exception is placed inside the try clause. The code that handles the exceptions is written in the except clause."
   ]
  },
  {
   "cell_type": "code",
   "execution_count": 185,
   "metadata": {},
   "outputs": [
    {
     "name": "stdout",
     "output_type": "stream",
     "text": [
      "0.1\n",
      "Exception caught\n",
      "None\n"
     ]
    }
   ],
   "source": [
    "def reciprocal(num):\n",
    "    try:\n",
    "        r = 1/num\n",
    "    except:\n",
    "        print('Exception caught')\n",
    "        return\n",
    "    return r\n",
    "\n",
    "print(reciprocal(10))\n",
    "print(reciprocal(0))"
   ]
  },
  {
   "cell_type": "markdown",
   "metadata": {},
   "source": [
    "### raise\n",
    "used to manually raise an exception\n",
    "\n",
    "In Python programming, exceptions are raised when errors occur at runtime. We can also manually raise exceptions using the raise keyword."
   ]
  },
  {
   "cell_type": "code",
   "execution_count": 186,
   "metadata": {},
   "outputs": [
    {
     "name": "stdout",
     "output_type": "stream",
     "text": [
      "Enter a positive integer: -2\n",
      "That is not a positive number!\n"
     ]
    }
   ],
   "source": [
    "try:\n",
    "    a = int(input(\"Enter a positive integer: \"))\n",
    "    if a <= 0:\n",
    "        raise ValueError(\"That is not a positive number!\")\n",
    "except ValueError as ve:\n",
    "    print(ve)"
   ]
  },
  {
   "cell_type": "code",
   "execution_count": null,
   "metadata": {},
   "outputs": [],
   "source": []
  }
 ],
 "metadata": {
  "kernelspec": {
   "display_name": "Python 3",
   "language": "python",
   "name": "python3"
  },
  "language_info": {
   "codemirror_mode": {
    "name": "ipython",
    "version": 3
   },
   "file_extension": ".py",
   "mimetype": "text/x-python",
   "name": "python",
   "nbconvert_exporter": "python",
   "pygments_lexer": "ipython3",
   "version": "3.7.4"
  }
 },
 "nbformat": 4,
 "nbformat_minor": 2
}
