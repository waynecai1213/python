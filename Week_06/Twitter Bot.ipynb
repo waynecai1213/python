{
 "cells": [
  {
   "cell_type": "markdown",
   "metadata": {},
   "source": [
    "# Twitter Bot\n",
    "\n",
    "This excersize is an introduction to APIs and Automation with Python. \n",
    "We will look at the Twitter developer APIs and attempt to build a bot that tweets automatically on your behalf. \n",
    "\n",
    "Below are the steps we'll be following for this demo:\n",
    "\n",
    "1. What is Tweepy and using Tweepy\n",
    "2. Making a Twitter Bot in Python with Tweepy\n",
    " \n",
    "\n",
    "\n"
   ]
  },
  {
   "cell_type": "markdown",
   "metadata": {},
   "source": [
    "### There are four steps common to any tweepy program\n",
    " 1. Import the tweepy package\n",
    " 2. Set the authentication credentials\n",
    " 3. Create a nee tweepy.API object\n",
    " 4. Use the api object to call the Twitter API"
   ]
  },
  {
   "cell_type": "code",
   "execution_count": 3,
   "metadata": {},
   "outputs": [],
   "source": [
    "#tweepy is an easy to use python library for accessing the Twitter API\n",
    "#first you will have to install tweepy in anaconda\n",
    "#open anaconda prompt and run: conda install -c conda-forge tweepy\n",
    "\n",
    "import tweepy\n",
    "\n",
    "consumer_key = \"XXXX\"\n",
    "consumer_secret = \"YYYY\"\n",
    "access_token = \"ZZZZ\"\n",
    "access_token_secret = \"AAAA\"\n",
    "\n",
    "#Authenticate to Twitter\n",
    "auth = tweepy.OAuthHandler(consumer_key, consumer_secret) \n",
    "auth.set_access_token(access_token, access_token_secret)\n",
    "\n",
    "#create API object\n",
    "#we will use this variable api to make all requests to the Twitter API going forward\n",
    "api = tweepy.API(auth)\n",
    "\n"
   ]
  },
  {
   "cell_type": "markdown",
   "metadata": {},
   "source": [
    "### Let's first make a bot that publishes a different tweet based on the day of the week. This is an easy task using if statements."
   ]
  },
  {
   "cell_type": "code",
   "execution_count": 5,
   "metadata": {},
   "outputs": [
    {
     "name": "stdout",
     "output_type": "stream",
     "text": [
      "5\n"
     ]
    }
   ],
   "source": [
    "#this module returns the date and day of a week\n",
    "#we will use it to find an index number corresponding to the day of the week\n",
    "#Monday is 0, Tuesday is 1 and So on..\n",
    "\n",
    "import datetime\n",
    "\n",
    "print(datetime.date.today().weekday())\n",
    "\n",
    "    "
   ]
  },
  {
   "cell_type": "code",
   "execution_count": 8,
   "metadata": {},
   "outputs": [
    {
     "name": "stdout",
     "output_type": "stream",
     "text": [
      "5\n",
      "Party too hard - it's Saturday\n"
     ]
    }
   ],
   "source": [
    "#the tweeting function\n",
    "#steps: 1. Find out which day it is today. 2.Update twitter status with corresponding message\n",
    "\n",
    "#finding the day\n",
    "#0 is Monday, 1 is Tuesday....6 is Sunday\n",
    "idx = datetime.date.today().weekday()\n",
    "print(idx)\n",
    "\n",
    "#logic 1 - using if statements\n",
    "\n",
    "if idx == 0:\n",
    "    tweet = \"Have a Happy Monday!\"\n",
    "if idx == 1:\n",
    "    tweet = \"Hope your tuesday too busy!\"\n",
    "if idx == 2:\n",
    "    tweet = \"Wednesdays = mixed emotions\"\n",
    "if idx == 3:\n",
    "    tweet = \"Thank god it's Thursday\"\n",
    "if idx == 4:\n",
    "    tweet = \"It's Fri-yay!!\"\n",
    "if idx == 5:\n",
    "    tweet = \"Party too hard - it's Saturday\"\n",
    "if idx == 6:\n",
    "    tweet = \"Are you nursing your daturday hangover?\"\n",
    "\n",
    "#api.update_status(tweet)\n",
    "print(tweet)\n",
    "        "
   ]
  },
  {
   "cell_type": "code",
   "execution_count": 11,
   "metadata": {},
   "outputs": [
    {
     "name": "stdout",
     "output_type": "stream",
     "text": [
      "Party too hard - it's Saturday\n"
     ]
    }
   ],
   "source": [
    "#the above method is too long and tedious\n",
    "# we have learnt what dictionaries are\n",
    "#So let's create a switch case statement for python.\n",
    "\n",
    "switcher = {\n",
    "    0: \"Have a Happy Monday!\",\n",
    "    1: \"Hope your tuesday too busy!\",\n",
    "    2: \"Wednesdays = mixed emotions\",\n",
    "    3: \"Thank god it's Thursday\",\n",
    "    4: \"It's Fri-yay!!\",\n",
    "    5: \"Party too hard - it's Saturday\",\n",
    "    6: \"Are you nursing your Saturday hangover?\"\n",
    "}\n",
    "\n",
    "tweet = switcher.get(idx)\n",
    "print(tweet)"
   ]
  },
  {
   "cell_type": "code",
   "execution_count": 12,
   "metadata": {},
   "outputs": [],
   "source": [
    "#let's wrap this up in a function\n",
    "\n",
    "def public_tweet():\n",
    "    idx = datetime.date.today().weekday()\n",
    "    switcher = {\n",
    "        0: \"Have a Happy Monday!\",\n",
    "        1: \"Hope your tuesday too busy!\",\n",
    "        2: \"Wednesdays = mixed emotions\",\n",
    "        3: \"Thank god it's Thursday\",\n",
    "        4: \"It's Fri-yay!!\",\n",
    "        5: \"Party too hard - it's Saturday\",\n",
    "        6: \"Are you nursing your Saturday hangover?\"     \n",
    "    }\n",
    "    tweet = switcher.get(idx)\n",
    "   # api.update_status(tweet)\n",
    "    print(tweet)\n",
    "    "
   ]
  },
  {
   "cell_type": "code",
   "execution_count": 13,
   "metadata": {},
   "outputs": [
    {
     "name": "stdout",
     "output_type": "stream",
     "text": [
      "Party too hard - it's Saturday\n"
     ]
    }
   ],
   "source": [
    "public_tweet()"
   ]
  },
  {
   "cell_type": "code",
   "execution_count": null,
   "metadata": {},
   "outputs": [],
   "source": []
  }
 ],
 "metadata": {
  "kernelspec": {
   "display_name": "Python 3",
   "language": "python",
   "name": "python3"
  },
  "language_info": {
   "codemirror_mode": {
    "name": "ipython",
    "version": 3
   },
   "file_extension": ".py",
   "mimetype": "text/x-python",
   "name": "python",
   "nbconvert_exporter": "python",
   "pygments_lexer": "ipython3",
   "version": "3.7.6"
  }
 },
 "nbformat": 4,
 "nbformat_minor": 4
}
